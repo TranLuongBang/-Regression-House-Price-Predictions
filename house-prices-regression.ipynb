{
 "cells": [
  {
   "cell_type": "markdown",
   "metadata": {
    "papermill": {
     "duration": 0.045897,
     "end_time": "2021-03-24T15:14:35.386093",
     "exception": false,
     "start_time": "2021-03-24T15:14:35.340196",
     "status": "completed"
    },
    "tags": []
   },
   "source": [
    "# Import Libraries"
   ]
  },
  {
   "cell_type": "code",
   "execution_count": 1,
   "metadata": {
    "_cell_guid": "b1076dfc-b9ad-4769-8c92-a6c4dae69d19",
    "_uuid": "8f2839f25d086af736a60e9eeb907d3b93b6e0e5",
    "execution": {
     "iopub.execute_input": "2021-03-24T15:14:35.477862Z",
     "iopub.status.busy": "2021-03-24T15:14:35.477171Z",
     "iopub.status.idle": "2021-03-24T15:14:36.863282Z",
     "shell.execute_reply": "2021-03-24T15:14:36.861867Z"
    },
    "papermill": {
     "duration": 1.435125,
     "end_time": "2021-03-24T15:14:36.863535",
     "exception": false,
     "start_time": "2021-03-24T15:14:35.428410",
     "status": "completed"
    },
    "tags": []
   },
   "outputs": [],
   "source": [
    "import numpy as np \n",
    "import pandas as pd \n",
    "import matplotlib.pyplot as plt\n",
    "import seaborn as sns\n",
    "from sklearn.model_selection import train_test_split\n",
    "from sklearn.linear_model import LinearRegression\n",
    "from sklearn.linear_model import Ridge\n",
    "from sklearn.linear_model import Lasso\n",
    "from sklearn.metrics import mean_squared_error\n",
    "from sklearn.metrics import mean_absolute_error"
   ]
  },
  {
   "cell_type": "markdown",
   "metadata": {
    "papermill": {
     "duration": 0.042087,
     "end_time": "2021-03-24T15:14:36.949793",
     "exception": false,
     "start_time": "2021-03-24T15:14:36.907706",
     "status": "completed"
    },
    "tags": []
   },
   "source": [
    "# Import Data"
   ]
  },
  {
   "cell_type": "code",
   "execution_count": 2,
   "metadata": {
    "execution": {
     "iopub.execute_input": "2021-03-24T15:14:37.046538Z",
     "iopub.status.busy": "2021-03-24T15:14:37.045835Z",
     "iopub.status.idle": "2021-03-24T15:14:37.130883Z",
     "shell.execute_reply": "2021-03-24T15:14:37.130222Z"
    },
    "papermill": {
     "duration": 0.133863,
     "end_time": "2021-03-24T15:14:37.131081",
     "exception": false,
     "start_time": "2021-03-24T15:14:36.997218",
     "status": "completed"
    },
    "tags": []
   },
   "outputs": [],
   "source": [
    "train_data = pd.read_csv('../input/house-prices-advanced-regression-techniques/train.csv')\n",
    "test_data = pd.read_csv('../input/house-prices-advanced-regression-techniques/test.csv')"
   ]
  },
  {
   "cell_type": "code",
   "execution_count": 3,
   "metadata": {
    "execution": {
     "iopub.execute_input": "2021-03-24T15:14:37.223453Z",
     "iopub.status.busy": "2021-03-24T15:14:37.222786Z",
     "iopub.status.idle": "2021-03-24T15:14:37.225770Z",
     "shell.execute_reply": "2021-03-24T15:14:37.226269Z"
    },
    "papermill": {
     "duration": 0.051926,
     "end_time": "2021-03-24T15:14:37.226443",
     "exception": false,
     "start_time": "2021-03-24T15:14:37.174517",
     "status": "completed"
    },
    "tags": []
   },
   "outputs": [
    {
     "name": "stdout",
     "output_type": "stream",
     "text": [
      "(1460, 81) (1459, 80)\n"
     ]
    }
   ],
   "source": [
    "print(train_data.shape, test_data.shape)"
   ]
  },
  {
   "cell_type": "code",
   "execution_count": 4,
   "metadata": {
    "execution": {
     "iopub.execute_input": "2021-03-24T15:14:37.317364Z",
     "iopub.status.busy": "2021-03-24T15:14:37.316731Z",
     "iopub.status.idle": "2021-03-24T15:14:37.365123Z",
     "shell.execute_reply": "2021-03-24T15:14:37.365693Z"
    },
    "papermill": {
     "duration": 0.094889,
     "end_time": "2021-03-24T15:14:37.365877",
     "exception": false,
     "start_time": "2021-03-24T15:14:37.270988",
     "status": "completed"
    },
    "tags": []
   },
   "outputs": [
    {
     "data": {
      "text/html": [
       "<div>\n",
       "<style scoped>\n",
       "    .dataframe tbody tr th:only-of-type {\n",
       "        vertical-align: middle;\n",
       "    }\n",
       "\n",
       "    .dataframe tbody tr th {\n",
       "        vertical-align: top;\n",
       "    }\n",
       "\n",
       "    .dataframe thead th {\n",
       "        text-align: right;\n",
       "    }\n",
       "</style>\n",
       "<table border=\"1\" class=\"dataframe\">\n",
       "  <thead>\n",
       "    <tr style=\"text-align: right;\">\n",
       "      <th></th>\n",
       "      <th>Id</th>\n",
       "      <th>MSSubClass</th>\n",
       "      <th>MSZoning</th>\n",
       "      <th>LotFrontage</th>\n",
       "      <th>LotArea</th>\n",
       "      <th>Street</th>\n",
       "      <th>Alley</th>\n",
       "      <th>LotShape</th>\n",
       "      <th>LandContour</th>\n",
       "      <th>Utilities</th>\n",
       "      <th>...</th>\n",
       "      <th>PoolArea</th>\n",
       "      <th>PoolQC</th>\n",
       "      <th>Fence</th>\n",
       "      <th>MiscFeature</th>\n",
       "      <th>MiscVal</th>\n",
       "      <th>MoSold</th>\n",
       "      <th>YrSold</th>\n",
       "      <th>SaleType</th>\n",
       "      <th>SaleCondition</th>\n",
       "      <th>SalePrice</th>\n",
       "    </tr>\n",
       "  </thead>\n",
       "  <tbody>\n",
       "    <tr>\n",
       "      <th>0</th>\n",
       "      <td>1</td>\n",
       "      <td>60</td>\n",
       "      <td>RL</td>\n",
       "      <td>65.0</td>\n",
       "      <td>8450</td>\n",
       "      <td>Pave</td>\n",
       "      <td>NaN</td>\n",
       "      <td>Reg</td>\n",
       "      <td>Lvl</td>\n",
       "      <td>AllPub</td>\n",
       "      <td>...</td>\n",
       "      <td>0</td>\n",
       "      <td>NaN</td>\n",
       "      <td>NaN</td>\n",
       "      <td>NaN</td>\n",
       "      <td>0</td>\n",
       "      <td>2</td>\n",
       "      <td>2008</td>\n",
       "      <td>WD</td>\n",
       "      <td>Normal</td>\n",
       "      <td>208500</td>\n",
       "    </tr>\n",
       "    <tr>\n",
       "      <th>1</th>\n",
       "      <td>2</td>\n",
       "      <td>20</td>\n",
       "      <td>RL</td>\n",
       "      <td>80.0</td>\n",
       "      <td>9600</td>\n",
       "      <td>Pave</td>\n",
       "      <td>NaN</td>\n",
       "      <td>Reg</td>\n",
       "      <td>Lvl</td>\n",
       "      <td>AllPub</td>\n",
       "      <td>...</td>\n",
       "      <td>0</td>\n",
       "      <td>NaN</td>\n",
       "      <td>NaN</td>\n",
       "      <td>NaN</td>\n",
       "      <td>0</td>\n",
       "      <td>5</td>\n",
       "      <td>2007</td>\n",
       "      <td>WD</td>\n",
       "      <td>Normal</td>\n",
       "      <td>181500</td>\n",
       "    </tr>\n",
       "    <tr>\n",
       "      <th>2</th>\n",
       "      <td>3</td>\n",
       "      <td>60</td>\n",
       "      <td>RL</td>\n",
       "      <td>68.0</td>\n",
       "      <td>11250</td>\n",
       "      <td>Pave</td>\n",
       "      <td>NaN</td>\n",
       "      <td>IR1</td>\n",
       "      <td>Lvl</td>\n",
       "      <td>AllPub</td>\n",
       "      <td>...</td>\n",
       "      <td>0</td>\n",
       "      <td>NaN</td>\n",
       "      <td>NaN</td>\n",
       "      <td>NaN</td>\n",
       "      <td>0</td>\n",
       "      <td>9</td>\n",
       "      <td>2008</td>\n",
       "      <td>WD</td>\n",
       "      <td>Normal</td>\n",
       "      <td>223500</td>\n",
       "    </tr>\n",
       "    <tr>\n",
       "      <th>3</th>\n",
       "      <td>4</td>\n",
       "      <td>70</td>\n",
       "      <td>RL</td>\n",
       "      <td>60.0</td>\n",
       "      <td>9550</td>\n",
       "      <td>Pave</td>\n",
       "      <td>NaN</td>\n",
       "      <td>IR1</td>\n",
       "      <td>Lvl</td>\n",
       "      <td>AllPub</td>\n",
       "      <td>...</td>\n",
       "      <td>0</td>\n",
       "      <td>NaN</td>\n",
       "      <td>NaN</td>\n",
       "      <td>NaN</td>\n",
       "      <td>0</td>\n",
       "      <td>2</td>\n",
       "      <td>2006</td>\n",
       "      <td>WD</td>\n",
       "      <td>Abnorml</td>\n",
       "      <td>140000</td>\n",
       "    </tr>\n",
       "    <tr>\n",
       "      <th>4</th>\n",
       "      <td>5</td>\n",
       "      <td>60</td>\n",
       "      <td>RL</td>\n",
       "      <td>84.0</td>\n",
       "      <td>14260</td>\n",
       "      <td>Pave</td>\n",
       "      <td>NaN</td>\n",
       "      <td>IR1</td>\n",
       "      <td>Lvl</td>\n",
       "      <td>AllPub</td>\n",
       "      <td>...</td>\n",
       "      <td>0</td>\n",
       "      <td>NaN</td>\n",
       "      <td>NaN</td>\n",
       "      <td>NaN</td>\n",
       "      <td>0</td>\n",
       "      <td>12</td>\n",
       "      <td>2008</td>\n",
       "      <td>WD</td>\n",
       "      <td>Normal</td>\n",
       "      <td>250000</td>\n",
       "    </tr>\n",
       "  </tbody>\n",
       "</table>\n",
       "<p>5 rows × 81 columns</p>\n",
       "</div>"
      ],
      "text/plain": [
       "   Id  MSSubClass MSZoning  LotFrontage  LotArea Street Alley LotShape  \\\n",
       "0   1          60       RL         65.0     8450   Pave   NaN      Reg   \n",
       "1   2          20       RL         80.0     9600   Pave   NaN      Reg   \n",
       "2   3          60       RL         68.0    11250   Pave   NaN      IR1   \n",
       "3   4          70       RL         60.0     9550   Pave   NaN      IR1   \n",
       "4   5          60       RL         84.0    14260   Pave   NaN      IR1   \n",
       "\n",
       "  LandContour Utilities  ... PoolArea PoolQC Fence MiscFeature MiscVal MoSold  \\\n",
       "0         Lvl    AllPub  ...        0    NaN   NaN         NaN       0      2   \n",
       "1         Lvl    AllPub  ...        0    NaN   NaN         NaN       0      5   \n",
       "2         Lvl    AllPub  ...        0    NaN   NaN         NaN       0      9   \n",
       "3         Lvl    AllPub  ...        0    NaN   NaN         NaN       0      2   \n",
       "4         Lvl    AllPub  ...        0    NaN   NaN         NaN       0     12   \n",
       "\n",
       "  YrSold  SaleType  SaleCondition  SalePrice  \n",
       "0   2008        WD         Normal     208500  \n",
       "1   2007        WD         Normal     181500  \n",
       "2   2008        WD         Normal     223500  \n",
       "3   2006        WD        Abnorml     140000  \n",
       "4   2008        WD         Normal     250000  \n",
       "\n",
       "[5 rows x 81 columns]"
      ]
     },
     "execution_count": 4,
     "metadata": {},
     "output_type": "execute_result"
    }
   ],
   "source": [
    "train_data.head()"
   ]
  },
  {
   "cell_type": "markdown",
   "metadata": {
    "papermill": {
     "duration": 0.044446,
     "end_time": "2021-03-24T15:14:37.454342",
     "exception": false,
     "start_time": "2021-03-24T15:14:37.409896",
     "status": "completed"
    },
    "tags": []
   },
   "source": [
    "# Data Preprocessing"
   ]
  },
  {
   "cell_type": "markdown",
   "metadata": {
    "papermill": {
     "duration": 0.04406,
     "end_time": "2021-03-24T15:14:37.543176",
     "exception": false,
     "start_time": "2021-03-24T15:14:37.499116",
     "status": "completed"
    },
    "tags": []
   },
   "source": [
    "### Checking Duplicate "
   ]
  },
  {
   "cell_type": "code",
   "execution_count": 5,
   "metadata": {
    "execution": {
     "iopub.execute_input": "2021-03-24T15:14:37.639501Z",
     "iopub.status.busy": "2021-03-24T15:14:37.638744Z",
     "iopub.status.idle": "2021-03-24T15:14:37.644991Z",
     "shell.execute_reply": "2021-03-24T15:14:37.645655Z"
    },
    "papermill": {
     "duration": 0.058512,
     "end_time": "2021-03-24T15:14:37.645829",
     "exception": false,
     "start_time": "2021-03-24T15:14:37.587317",
     "status": "completed"
    },
    "tags": []
   },
   "outputs": [
    {
     "name": "stdout",
     "output_type": "stream",
     "text": [
      "True\n",
      "True\n"
     ]
    }
   ],
   "source": [
    "print(train_data['Id'].nunique() == train_data['Id'].count())\n",
    "print(test_data['Id'].nunique() == test_data['Id'].count())"
   ]
  },
  {
   "cell_type": "markdown",
   "metadata": {
    "papermill": {
     "duration": 0.044214,
     "end_time": "2021-03-24T15:14:37.734324",
     "exception": false,
     "start_time": "2021-03-24T15:14:37.690110",
     "status": "completed"
    },
    "tags": []
   },
   "source": [
    "### Missing Data\n",
    "\n",
    "\n",
    "Important questions when thinking about missing data:\n",
    "\n",
    "* How prevalent is the missing data?\n",
    "* Is missing data random or does it have a pattern?"
   ]
  },
  {
   "cell_type": "code",
   "execution_count": 6,
   "metadata": {
    "execution": {
     "iopub.execute_input": "2021-03-24T15:14:37.827288Z",
     "iopub.status.busy": "2021-03-24T15:14:37.826593Z",
     "iopub.status.idle": "2021-03-24T15:14:37.874943Z",
     "shell.execute_reply": "2021-03-24T15:14:37.874375Z"
    },
    "papermill": {
     "duration": 0.095843,
     "end_time": "2021-03-24T15:14:37.875103",
     "exception": false,
     "start_time": "2021-03-24T15:14:37.779260",
     "status": "completed"
    },
    "tags": []
   },
   "outputs": [
    {
     "data": {
      "text/html": [
       "<div>\n",
       "<style scoped>\n",
       "    .dataframe tbody tr th:only-of-type {\n",
       "        vertical-align: middle;\n",
       "    }\n",
       "\n",
       "    .dataframe tbody tr th {\n",
       "        vertical-align: top;\n",
       "    }\n",
       "\n",
       "    .dataframe thead th {\n",
       "        text-align: right;\n",
       "    }\n",
       "</style>\n",
       "<table border=\"1\" class=\"dataframe\">\n",
       "  <thead>\n",
       "    <tr style=\"text-align: right;\">\n",
       "      <th></th>\n",
       "      <th>Total</th>\n",
       "      <th>Percent</th>\n",
       "    </tr>\n",
       "  </thead>\n",
       "  <tbody>\n",
       "    <tr>\n",
       "      <th>PoolQC</th>\n",
       "      <td>1453</td>\n",
       "      <td>0.995205</td>\n",
       "    </tr>\n",
       "    <tr>\n",
       "      <th>MiscFeature</th>\n",
       "      <td>1406</td>\n",
       "      <td>0.963014</td>\n",
       "    </tr>\n",
       "    <tr>\n",
       "      <th>Alley</th>\n",
       "      <td>1369</td>\n",
       "      <td>0.937671</td>\n",
       "    </tr>\n",
       "    <tr>\n",
       "      <th>Fence</th>\n",
       "      <td>1179</td>\n",
       "      <td>0.807534</td>\n",
       "    </tr>\n",
       "    <tr>\n",
       "      <th>FireplaceQu</th>\n",
       "      <td>690</td>\n",
       "      <td>0.472603</td>\n",
       "    </tr>\n",
       "    <tr>\n",
       "      <th>LotFrontage</th>\n",
       "      <td>259</td>\n",
       "      <td>0.177397</td>\n",
       "    </tr>\n",
       "    <tr>\n",
       "      <th>GarageYrBlt</th>\n",
       "      <td>81</td>\n",
       "      <td>0.055479</td>\n",
       "    </tr>\n",
       "    <tr>\n",
       "      <th>GarageCond</th>\n",
       "      <td>81</td>\n",
       "      <td>0.055479</td>\n",
       "    </tr>\n",
       "    <tr>\n",
       "      <th>GarageType</th>\n",
       "      <td>81</td>\n",
       "      <td>0.055479</td>\n",
       "    </tr>\n",
       "    <tr>\n",
       "      <th>GarageFinish</th>\n",
       "      <td>81</td>\n",
       "      <td>0.055479</td>\n",
       "    </tr>\n",
       "    <tr>\n",
       "      <th>GarageQual</th>\n",
       "      <td>81</td>\n",
       "      <td>0.055479</td>\n",
       "    </tr>\n",
       "    <tr>\n",
       "      <th>BsmtFinType2</th>\n",
       "      <td>38</td>\n",
       "      <td>0.026027</td>\n",
       "    </tr>\n",
       "    <tr>\n",
       "      <th>BsmtExposure</th>\n",
       "      <td>38</td>\n",
       "      <td>0.026027</td>\n",
       "    </tr>\n",
       "    <tr>\n",
       "      <th>BsmtQual</th>\n",
       "      <td>37</td>\n",
       "      <td>0.025342</td>\n",
       "    </tr>\n",
       "    <tr>\n",
       "      <th>BsmtCond</th>\n",
       "      <td>37</td>\n",
       "      <td>0.025342</td>\n",
       "    </tr>\n",
       "    <tr>\n",
       "      <th>BsmtFinType1</th>\n",
       "      <td>37</td>\n",
       "      <td>0.025342</td>\n",
       "    </tr>\n",
       "    <tr>\n",
       "      <th>MasVnrArea</th>\n",
       "      <td>8</td>\n",
       "      <td>0.005479</td>\n",
       "    </tr>\n",
       "    <tr>\n",
       "      <th>MasVnrType</th>\n",
       "      <td>8</td>\n",
       "      <td>0.005479</td>\n",
       "    </tr>\n",
       "    <tr>\n",
       "      <th>Electrical</th>\n",
       "      <td>1</td>\n",
       "      <td>0.000685</td>\n",
       "    </tr>\n",
       "    <tr>\n",
       "      <th>Id</th>\n",
       "      <td>0</td>\n",
       "      <td>0.000000</td>\n",
       "    </tr>\n",
       "  </tbody>\n",
       "</table>\n",
       "</div>"
      ],
      "text/plain": [
       "              Total   Percent\n",
       "PoolQC         1453  0.995205\n",
       "MiscFeature    1406  0.963014\n",
       "Alley          1369  0.937671\n",
       "Fence          1179  0.807534\n",
       "FireplaceQu     690  0.472603\n",
       "LotFrontage     259  0.177397\n",
       "GarageYrBlt      81  0.055479\n",
       "GarageCond       81  0.055479\n",
       "GarageType       81  0.055479\n",
       "GarageFinish     81  0.055479\n",
       "GarageQual       81  0.055479\n",
       "BsmtFinType2     38  0.026027\n",
       "BsmtExposure     38  0.026027\n",
       "BsmtQual         37  0.025342\n",
       "BsmtCond         37  0.025342\n",
       "BsmtFinType1     37  0.025342\n",
       "MasVnrArea        8  0.005479\n",
       "MasVnrType        8  0.005479\n",
       "Electrical        1  0.000685\n",
       "Id                0  0.000000"
      ]
     },
     "execution_count": 6,
     "metadata": {},
     "output_type": "execute_result"
    }
   ],
   "source": [
    "total = train_data.isnull().sum().sort_values(ascending = False)\n",
    "percent = (train_data.isnull().sum()/train_data.shape[0]).sort_values(ascending = False)\n",
    "\n",
    "missing_data = pd.concat([total, percent], axis=1, keys=['Total', 'Percent'])\n",
    "missing_data.head(20)\n",
    "\n"
   ]
  },
  {
   "cell_type": "markdown",
   "metadata": {
    "papermill": {
     "duration": 0.046639,
     "end_time": "2021-03-24T15:14:37.966735",
     "exception": false,
     "start_time": "2021-03-24T15:14:37.920096",
     "status": "completed"
    },
    "tags": []
   },
   "source": [
    "**How to deal with missing data**\n",
    "\n",
    "There are 2 ways we can deal with missing data.\n",
    "\n",
    "1. Delete variables or observations.\n",
    "\n",
    "in cases of deleting variables, when more than 50 or 30% of the data is missing, we should delete the corresponding variable. The point here is 'will we miss this data?' No. it is likely that these variables (e.g. 'PoolQC', 'MiscFeature') are not important aspects to consider when buying a house.\n",
    "\n",
    "In what concerns the remaining cases, less percentage of missing data, we can delete these observations with missing data. Consider reducing the size of dataset\n",
    "\n",
    "2. Impute missing values\n",
    "\n",
    "There is many options we could consider when replacing a missing value\n",
    "- a constant value that has meaning within the domain, such as ), distinct from all other values\n",
    "- a value from another randomly selected record\n",
    "- a mean, median or mode value for a column\n",
    "- a value estimated by another predictive model\n",
    "\n",
    "\n",
    "Notes: Not all algorithms fail when there is missing data.\n",
    "There  are algorithms that can be made rebust to missing data, such as k-Nearest Neighbors that can ignore a column from a distance measure when a value is missing. Naive Bayes can aslo support missing values when making a prediction.\n",
    "Sadly, the scikit-learn implementations of naive bayes, decision tree and k-Nearest Neighbor are not rebust to missing values. Although t is being considered,\n",
    "\n",
    "\n"
   ]
  },
  {
   "cell_type": "markdown",
   "metadata": {
    "papermill": {
     "duration": 0.044672,
     "end_time": "2021-03-24T15:14:38.057223",
     "exception": false,
     "start_time": "2021-03-24T15:14:38.012551",
     "status": "completed"
    },
    "tags": []
   },
   "source": [
    "**Deleting variables with missing values**\n",
    "\n",
    "we are going to delete varibles with ratio of missing values is greater than 15%.\n"
   ]
  },
  {
   "cell_type": "code",
   "execution_count": 7,
   "metadata": {
    "execution": {
     "iopub.execute_input": "2021-03-24T15:14:38.157583Z",
     "iopub.status.busy": "2021-03-24T15:14:38.156915Z",
     "iopub.status.idle": "2021-03-24T15:14:38.180446Z",
     "shell.execute_reply": "2021-03-24T15:14:38.180967Z"
    },
    "papermill": {
     "duration": 0.077356,
     "end_time": "2021-03-24T15:14:38.181160",
     "exception": false,
     "start_time": "2021-03-24T15:14:38.103804",
     "status": "completed"
    },
    "tags": []
   },
   "outputs": [
    {
     "data": {
      "text/html": [
       "<div>\n",
       "<style scoped>\n",
       "    .dataframe tbody tr th:only-of-type {\n",
       "        vertical-align: middle;\n",
       "    }\n",
       "\n",
       "    .dataframe tbody tr th {\n",
       "        vertical-align: top;\n",
       "    }\n",
       "\n",
       "    .dataframe thead th {\n",
       "        text-align: right;\n",
       "    }\n",
       "</style>\n",
       "<table border=\"1\" class=\"dataframe\">\n",
       "  <thead>\n",
       "    <tr style=\"text-align: right;\">\n",
       "      <th></th>\n",
       "      <th>Id</th>\n",
       "      <th>MSSubClass</th>\n",
       "      <th>MSZoning</th>\n",
       "      <th>LotArea</th>\n",
       "      <th>Street</th>\n",
       "      <th>LotShape</th>\n",
       "      <th>LandContour</th>\n",
       "      <th>Utilities</th>\n",
       "      <th>LotConfig</th>\n",
       "      <th>LandSlope</th>\n",
       "      <th>...</th>\n",
       "      <th>EnclosedPorch</th>\n",
       "      <th>3SsnPorch</th>\n",
       "      <th>ScreenPorch</th>\n",
       "      <th>PoolArea</th>\n",
       "      <th>MiscVal</th>\n",
       "      <th>MoSold</th>\n",
       "      <th>YrSold</th>\n",
       "      <th>SaleType</th>\n",
       "      <th>SaleCondition</th>\n",
       "      <th>SalePrice</th>\n",
       "    </tr>\n",
       "  </thead>\n",
       "  <tbody>\n",
       "    <tr>\n",
       "      <th>0</th>\n",
       "      <td>1</td>\n",
       "      <td>60</td>\n",
       "      <td>RL</td>\n",
       "      <td>8450</td>\n",
       "      <td>Pave</td>\n",
       "      <td>Reg</td>\n",
       "      <td>Lvl</td>\n",
       "      <td>AllPub</td>\n",
       "      <td>Inside</td>\n",
       "      <td>Gtl</td>\n",
       "      <td>...</td>\n",
       "      <td>0</td>\n",
       "      <td>0</td>\n",
       "      <td>0</td>\n",
       "      <td>0</td>\n",
       "      <td>0</td>\n",
       "      <td>2</td>\n",
       "      <td>2008</td>\n",
       "      <td>WD</td>\n",
       "      <td>Normal</td>\n",
       "      <td>208500</td>\n",
       "    </tr>\n",
       "    <tr>\n",
       "      <th>1</th>\n",
       "      <td>2</td>\n",
       "      <td>20</td>\n",
       "      <td>RL</td>\n",
       "      <td>9600</td>\n",
       "      <td>Pave</td>\n",
       "      <td>Reg</td>\n",
       "      <td>Lvl</td>\n",
       "      <td>AllPub</td>\n",
       "      <td>FR2</td>\n",
       "      <td>Gtl</td>\n",
       "      <td>...</td>\n",
       "      <td>0</td>\n",
       "      <td>0</td>\n",
       "      <td>0</td>\n",
       "      <td>0</td>\n",
       "      <td>0</td>\n",
       "      <td>5</td>\n",
       "      <td>2007</td>\n",
       "      <td>WD</td>\n",
       "      <td>Normal</td>\n",
       "      <td>181500</td>\n",
       "    </tr>\n",
       "    <tr>\n",
       "      <th>2</th>\n",
       "      <td>3</td>\n",
       "      <td>60</td>\n",
       "      <td>RL</td>\n",
       "      <td>11250</td>\n",
       "      <td>Pave</td>\n",
       "      <td>IR1</td>\n",
       "      <td>Lvl</td>\n",
       "      <td>AllPub</td>\n",
       "      <td>Inside</td>\n",
       "      <td>Gtl</td>\n",
       "      <td>...</td>\n",
       "      <td>0</td>\n",
       "      <td>0</td>\n",
       "      <td>0</td>\n",
       "      <td>0</td>\n",
       "      <td>0</td>\n",
       "      <td>9</td>\n",
       "      <td>2008</td>\n",
       "      <td>WD</td>\n",
       "      <td>Normal</td>\n",
       "      <td>223500</td>\n",
       "    </tr>\n",
       "    <tr>\n",
       "      <th>3</th>\n",
       "      <td>4</td>\n",
       "      <td>70</td>\n",
       "      <td>RL</td>\n",
       "      <td>9550</td>\n",
       "      <td>Pave</td>\n",
       "      <td>IR1</td>\n",
       "      <td>Lvl</td>\n",
       "      <td>AllPub</td>\n",
       "      <td>Corner</td>\n",
       "      <td>Gtl</td>\n",
       "      <td>...</td>\n",
       "      <td>272</td>\n",
       "      <td>0</td>\n",
       "      <td>0</td>\n",
       "      <td>0</td>\n",
       "      <td>0</td>\n",
       "      <td>2</td>\n",
       "      <td>2006</td>\n",
       "      <td>WD</td>\n",
       "      <td>Abnorml</td>\n",
       "      <td>140000</td>\n",
       "    </tr>\n",
       "    <tr>\n",
       "      <th>4</th>\n",
       "      <td>5</td>\n",
       "      <td>60</td>\n",
       "      <td>RL</td>\n",
       "      <td>14260</td>\n",
       "      <td>Pave</td>\n",
       "      <td>IR1</td>\n",
       "      <td>Lvl</td>\n",
       "      <td>AllPub</td>\n",
       "      <td>FR2</td>\n",
       "      <td>Gtl</td>\n",
       "      <td>...</td>\n",
       "      <td>0</td>\n",
       "      <td>0</td>\n",
       "      <td>0</td>\n",
       "      <td>0</td>\n",
       "      <td>0</td>\n",
       "      <td>12</td>\n",
       "      <td>2008</td>\n",
       "      <td>WD</td>\n",
       "      <td>Normal</td>\n",
       "      <td>250000</td>\n",
       "    </tr>\n",
       "  </tbody>\n",
       "</table>\n",
       "<p>5 rows × 75 columns</p>\n",
       "</div>"
      ],
      "text/plain": [
       "   Id  MSSubClass MSZoning  LotArea Street LotShape LandContour Utilities  \\\n",
       "0   1          60       RL     8450   Pave      Reg         Lvl    AllPub   \n",
       "1   2          20       RL     9600   Pave      Reg         Lvl    AllPub   \n",
       "2   3          60       RL    11250   Pave      IR1         Lvl    AllPub   \n",
       "3   4          70       RL     9550   Pave      IR1         Lvl    AllPub   \n",
       "4   5          60       RL    14260   Pave      IR1         Lvl    AllPub   \n",
       "\n",
       "  LotConfig LandSlope  ... EnclosedPorch 3SsnPorch ScreenPorch PoolArea  \\\n",
       "0    Inside       Gtl  ...             0         0           0        0   \n",
       "1       FR2       Gtl  ...             0         0           0        0   \n",
       "2    Inside       Gtl  ...             0         0           0        0   \n",
       "3    Corner       Gtl  ...           272         0           0        0   \n",
       "4       FR2       Gtl  ...             0         0           0        0   \n",
       "\n",
       "  MiscVal  MoSold  YrSold  SaleType  SaleCondition SalePrice  \n",
       "0       0       2    2008        WD         Normal    208500  \n",
       "1       0       5    2007        WD         Normal    181500  \n",
       "2       0       9    2008        WD         Normal    223500  \n",
       "3       0       2    2006        WD        Abnorml    140000  \n",
       "4       0      12    2008        WD         Normal    250000  \n",
       "\n",
       "[5 rows x 75 columns]"
      ]
     },
     "execution_count": 7,
     "metadata": {},
     "output_type": "execute_result"
    }
   ],
   "source": [
    "train_data = train_data.drop((missing_data[missing_data['Percent'] >= 0.15]).index,1)\n",
    "train_data.head()"
   ]
  },
  {
   "cell_type": "markdown",
   "metadata": {
    "papermill": {
     "duration": 0.045515,
     "end_time": "2021-03-24T15:14:38.272354",
     "exception": false,
     "start_time": "2021-03-24T15:14:38.226839",
     "status": "completed"
    },
    "tags": []
   },
   "source": [
    "**Imputing missing values**\n",
    "\n",
    "\n",
    "\n",
    "\n",
    "\n",
    "\n"
   ]
  },
  {
   "cell_type": "markdown",
   "metadata": {
    "papermill": {
     "duration": 0.045273,
     "end_time": "2021-03-24T15:14:38.363410",
     "exception": false,
     "start_time": "2021-03-24T15:14:38.318137",
     "status": "completed"
    },
    "tags": []
   },
   "source": [
    "- **GarageType, GarageFinish, GarageQual and GarageCond:** Replacing missing data with None\n"
   ]
  },
  {
   "cell_type": "code",
   "execution_count": 8,
   "metadata": {
    "execution": {
     "iopub.execute_input": "2021-03-24T15:14:38.458201Z",
     "iopub.status.busy": "2021-03-24T15:14:38.457548Z",
     "iopub.status.idle": "2021-03-24T15:14:38.464410Z",
     "shell.execute_reply": "2021-03-24T15:14:38.464981Z"
    },
    "papermill": {
     "duration": 0.056085,
     "end_time": "2021-03-24T15:14:38.465176",
     "exception": false,
     "start_time": "2021-03-24T15:14:38.409091",
     "status": "completed"
    },
    "tags": []
   },
   "outputs": [],
   "source": [
    "for col in ['GarageType', 'GarageFinish', 'GarageQual', 'GarageCond']:\n",
    "    train_data[col] = train_data[col].fillna('None')\n"
   ]
  },
  {
   "cell_type": "markdown",
   "metadata": {
    "papermill": {
     "duration": 0.046072,
     "end_time": "2021-03-24T15:14:38.558204",
     "exception": false,
     "start_time": "2021-03-24T15:14:38.512132",
     "status": "completed"
    },
    "tags": []
   },
   "source": [
    "- **GarageYrBlt, GarageArea and GarageCars:** Replacing missing data with 0 since no garage is no cars in such garage"
   ]
  },
  {
   "cell_type": "code",
   "execution_count": 9,
   "metadata": {
    "execution": {
     "iopub.execute_input": "2021-03-24T15:14:38.657421Z",
     "iopub.status.busy": "2021-03-24T15:14:38.656768Z",
     "iopub.status.idle": "2021-03-24T15:14:38.658827Z",
     "shell.execute_reply": "2021-03-24T15:14:38.659376Z"
    },
    "papermill": {
     "duration": 0.055226,
     "end_time": "2021-03-24T15:14:38.659555",
     "exception": false,
     "start_time": "2021-03-24T15:14:38.604329",
     "status": "completed"
    },
    "tags": []
   },
   "outputs": [],
   "source": [
    "for col in ['GarageYrBlt', 'GarageArea', 'GarageCars']:\n",
    "    train_data[col] = train_data[col].fillna(0)"
   ]
  },
  {
   "cell_type": "markdown",
   "metadata": {
    "papermill": {
     "duration": 0.046055,
     "end_time": "2021-03-24T15:14:38.751736",
     "exception": false,
     "start_time": "2021-03-24T15:14:38.705681",
     "status": "completed"
    },
    "tags": []
   },
   "source": [
    "- **BsmtQual,BsmtCond, BsmtExposure, BsmtFinType1 and BsmtFinType2:** for all these categorical basement-related feartures, Nan means that there is no basement."
   ]
  },
  {
   "cell_type": "code",
   "execution_count": 10,
   "metadata": {
    "execution": {
     "iopub.execute_input": "2021-03-24T15:14:38.848749Z",
     "iopub.status.busy": "2021-03-24T15:14:38.848067Z",
     "iopub.status.idle": "2021-03-24T15:14:38.855165Z",
     "shell.execute_reply": "2021-03-24T15:14:38.855658Z"
    },
    "papermill": {
     "duration": 0.057429,
     "end_time": "2021-03-24T15:14:38.855849",
     "exception": false,
     "start_time": "2021-03-24T15:14:38.798420",
     "status": "completed"
    },
    "tags": []
   },
   "outputs": [],
   "source": [
    "for col in ['BsmtQual', 'BsmtCond', 'BsmtExposure', 'BsmtFinType1', 'BsmtFinType2']:\n",
    "    train_data[col] = train_data[col].fillna('None')"
   ]
  },
  {
   "cell_type": "markdown",
   "metadata": {
    "papermill": {
     "duration": 0.04677,
     "end_time": "2021-03-24T15:14:38.949194",
     "exception": false,
     "start_time": "2021-03-24T15:14:38.902424",
     "status": "completed"
    },
    "tags": []
   },
   "source": [
    "- **MasVnrArea and MasVnrType** NA most likely menas no masonry veneer for these houses, We can fill ) for the area and Non for the type"
   ]
  },
  {
   "cell_type": "code",
   "execution_count": 11,
   "metadata": {
    "execution": {
     "iopub.execute_input": "2021-03-24T15:14:39.071498Z",
     "iopub.status.busy": "2021-03-24T15:14:39.070842Z",
     "iopub.status.idle": "2021-03-24T15:14:39.073907Z",
     "shell.execute_reply": "2021-03-24T15:14:39.073365Z"
    },
    "papermill": {
     "duration": 0.065283,
     "end_time": "2021-03-24T15:14:39.074069",
     "exception": false,
     "start_time": "2021-03-24T15:14:39.008786",
     "status": "completed"
    },
    "tags": []
   },
   "outputs": [],
   "source": [
    "train_data[\"MasVnrType\"] = train_data[\"MasVnrType\"].fillna(\"None\")\n",
    "train_data[\"MasVnrArea\"] = train_data[\"MasVnrArea\"].fillna(0)"
   ]
  },
  {
   "cell_type": "markdown",
   "metadata": {
    "papermill": {
     "duration": 0.049832,
     "end_time": "2021-03-24T15:14:39.177751",
     "exception": false,
     "start_time": "2021-03-24T15:14:39.127919",
     "status": "completed"
    },
    "tags": []
   },
   "source": [
    "- **Electrical :**  It has one NA value. Since this feature has mostly 'SBrkr', we can set that for the missing value."
   ]
  },
  {
   "cell_type": "code",
   "execution_count": 12,
   "metadata": {
    "execution": {
     "iopub.execute_input": "2021-03-24T15:14:39.281313Z",
     "iopub.status.busy": "2021-03-24T15:14:39.280576Z",
     "iopub.status.idle": "2021-03-24T15:14:39.283815Z",
     "shell.execute_reply": "2021-03-24T15:14:39.284370Z"
    },
    "papermill": {
     "duration": 0.059218,
     "end_time": "2021-03-24T15:14:39.284551",
     "exception": false,
     "start_time": "2021-03-24T15:14:39.225333",
     "status": "completed"
    },
    "tags": []
   },
   "outputs": [],
   "source": [
    "train_data['Electrical'] = train_data['Electrical'].fillna(train_data['Electrical'].mode()[0])"
   ]
  },
  {
   "cell_type": "markdown",
   "metadata": {
    "papermill": {
     "duration": 0.046336,
     "end_time": "2021-03-24T15:14:39.377748",
     "exception": false,
     "start_time": "2021-03-24T15:14:39.331412",
     "status": "completed"
    },
    "tags": []
   },
   "source": [
    "**Is there any remaining missing value?**"
   ]
  },
  {
   "cell_type": "code",
   "execution_count": 13,
   "metadata": {
    "execution": {
     "iopub.execute_input": "2021-03-24T15:14:39.484732Z",
     "iopub.status.busy": "2021-03-24T15:14:39.483686Z",
     "iopub.status.idle": "2021-03-24T15:14:39.490899Z",
     "shell.execute_reply": "2021-03-24T15:14:39.491367Z"
    },
    "papermill": {
     "duration": 0.066109,
     "end_time": "2021-03-24T15:14:39.491560",
     "exception": false,
     "start_time": "2021-03-24T15:14:39.425451",
     "status": "completed"
    },
    "tags": []
   },
   "outputs": [
    {
     "data": {
      "text/plain": [
       "0"
      ]
     },
     "execution_count": 13,
     "metadata": {},
     "output_type": "execute_result"
    }
   ],
   "source": [
    "train_data.isnull().sum().max()"
   ]
  },
  {
   "cell_type": "markdown",
   "metadata": {
    "papermill": {
     "duration": 0.046894,
     "end_time": "2021-03-24T15:14:39.585453",
     "exception": false,
     "start_time": "2021-03-24T15:14:39.538559",
     "status": "completed"
    },
    "tags": []
   },
   "source": [
    "## Handling Outliers\n",
    "\n",
    "Before mentioning how outliers can be handeled, it is true that the best way to detect the outliers is to demonstrate the data visually. All other statistical methodologies are open to making mistakes, whereas visualizing the outliers gives a chance to take a secision with high precision. \n",
    "\n",
    "Statistical mothodologies are less precise but on the other hand, they have a superioty and fast.\n",
    "\n",
    "There are two diffirent ways of handing outliers detecting them using **standard deviation** and **percentiles**\n",
    "\n",
    "After detect outlier then we can decide to to delete outliers"
   ]
  },
  {
   "cell_type": "markdown",
   "metadata": {
    "papermill": {
     "duration": 0.047121,
     "end_time": "2021-03-24T15:14:39.680003",
     "exception": false,
     "start_time": "2021-03-24T15:14:39.632882",
     "status": "completed"
    },
    "tags": []
   },
   "source": [
    "**Examples. Detect outliers by visualizing**"
   ]
  },
  {
   "cell_type": "code",
   "execution_count": 14,
   "metadata": {
    "execution": {
     "iopub.execute_input": "2021-03-24T15:14:39.777798Z",
     "iopub.status.busy": "2021-03-24T15:14:39.777104Z",
     "iopub.status.idle": "2021-03-24T15:14:39.914913Z",
     "shell.execute_reply": "2021-03-24T15:14:39.915516Z"
    },
    "papermill": {
     "duration": 0.188751,
     "end_time": "2021-03-24T15:14:39.915741",
     "exception": false,
     "start_time": "2021-03-24T15:14:39.726990",
     "status": "completed"
    },
    "tags": []
   },
   "outputs": [
    {
     "data": {
      "image/png": "[encoded data removed]",
      "text/plain": [
       "<Figure size 432x288 with 1 Axes>"
      ]
     },
     "metadata": {
      "needs_background": "light"
     },
     "output_type": "display_data"
    }
   ],
   "source": [
    "ax = sns.boxplot(y = 'LotArea', data = train_data)"
   ]
  },
  {
   "cell_type": "code",
   "execution_count": 15,
   "metadata": {
    "execution": {
     "iopub.execute_input": "2021-03-24T15:14:40.016110Z",
     "iopub.status.busy": "2021-03-24T15:14:40.015386Z",
     "iopub.status.idle": "2021-03-24T15:14:40.228043Z",
     "shell.execute_reply": "2021-03-24T15:14:40.227484Z"
    },
    "papermill": {
     "duration": 0.264016,
     "end_time": "2021-03-24T15:14:40.228209",
     "exception": false,
     "start_time": "2021-03-24T15:14:39.964193",
     "status": "completed"
    },
    "tags": []
   },
   "outputs": [
    {
     "data": {
      "image/png": "[encoded data removed]",
      "text/plain": [
       "<Figure size 432x288 with 1 Axes>"
      ]
     },
     "metadata": {
      "needs_background": "light"
     },
     "output_type": "display_data"
    }
   ],
   "source": [
    "#bivariate analysis saleprice/LotArea\n",
    "var = 'LotArea'\n",
    "data = pd.concat([train_data['SalePrice'], train_data[var]], axis=1)\n",
    "data.plot.scatter(x=var, y='SalePrice', ylim=(0,800000));\n"
   ]
  },
  {
   "cell_type": "markdown",
   "metadata": {
    "papermill": {
     "duration": 0.048607,
     "end_time": "2021-03-24T15:14:40.325524",
     "exception": false,
     "start_time": "2021-03-24T15:14:40.276917",
     "status": "completed"
    },
    "tags": []
   },
   "source": [
    "The some values with bigger 'LotArea' seem strange and they are not following the crowd. we can define them as outliers and delete them."
   ]
  },
  {
   "cell_type": "markdown",
   "metadata": {
    "papermill": {
     "duration": 0.048472,
     "end_time": "2021-03-24T15:14:40.422827",
     "exception": false,
     "start_time": "2021-03-24T15:14:40.374355",
     "status": "completed"
    },
    "tags": []
   },
   "source": [
    "**Examples. Detect outliers with Standard Deviation**\n",
    "\n",
    "If a value has a distance to the average higher than **x * standard deviation**, it can be assumed as an outlier. Then what **x** should be?\n",
    "\n",
    "there is no trivial solution for **x**, but usually, a value between 2 and 4 seems practicals. the default value is 3."
   ]
  },
  {
   "cell_type": "code",
   "execution_count": 16,
   "metadata": {
    "execution": {
     "iopub.execute_input": "2021-03-24T15:14:40.531372Z",
     "iopub.status.busy": "2021-03-24T15:14:40.530648Z",
     "iopub.status.idle": "2021-03-24T15:14:40.534373Z",
     "shell.execute_reply": "2021-03-24T15:14:40.534931Z"
    },
    "papermill": {
     "duration": 0.061864,
     "end_time": "2021-03-24T15:14:40.535126",
     "exception": false,
     "start_time": "2021-03-24T15:14:40.473262",
     "status": "completed"
    },
    "tags": []
   },
   "outputs": [
    {
     "name": "stdout",
     "output_type": "stream",
     "text": [
      "40460.62287932922\n",
      "53       50271\n",
      "249     159000\n",
      "313     215245\n",
      "335     164660\n",
      "384      53107\n",
      "451      70761\n",
      "457      53227\n",
      "661      46589\n",
      "706     115149\n",
      "769      53504\n",
      "848      45600\n",
      "1298     63887\n",
      "1396     57200\n",
      "Name: LotArea, dtype: int64\n"
     ]
    }
   ],
   "source": [
    "x = 3\n",
    "upper_lim = train_data['LotArea'].mean () + train_data['LotArea'].std () * x\n",
    "lower_lim = train_data['LotArea'].mean () - train_data['LotArea'].std () * x\n",
    "print(upper_lim)\n",
    "outliers = train_data[train_data['LotArea'] > upper_lim]['LotArea']\n",
    "print(outliers)"
   ]
  },
  {
   "cell_type": "markdown",
   "metadata": {
    "papermill": {
     "duration": 0.048845,
     "end_time": "2021-03-24T15:14:40.633228",
     "exception": false,
     "start_time": "2021-03-24T15:14:40.584383",
     "status": "completed"
    },
    "tags": []
   },
   "source": [
    "**Examples. Detect outliers with Percentiles**\n",
    "Another mathematical method to detect outliers is to use percentiles.\n",
    "\n",
    "we can assume that a certain percent of the value from the top or the bottom as an outlier. the key point is here to set the percaentage value once again and this pepends on the distribution of the data.\n",
    "\n",
    "Additionally, a common mistake is using the percentiles according to the range of the data. In other words, if your data ranges from 0 to 100, your top 5% is not the values between 96 and 100. Top 5% means here the values that are out of the 95th percentile of data.\n",
    "\n",
    "\n"
   ]
  },
  {
   "cell_type": "code",
   "execution_count": 17,
   "metadata": {
    "execution": {
     "iopub.execute_input": "2021-03-24T15:14:40.734902Z",
     "iopub.status.busy": "2021-03-24T15:14:40.734253Z",
     "iopub.status.idle": "2021-03-24T15:14:40.745255Z",
     "shell.execute_reply": "2021-03-24T15:14:40.745779Z"
    },
    "papermill": {
     "duration": 0.063706,
     "end_time": "2021-03-24T15:14:40.745977",
     "exception": false,
     "start_time": "2021-03-24T15:14:40.682271",
     "status": "completed"
    },
    "tags": []
   },
   "outputs": [
    {
     "name": "stdout",
     "output_type": "stream",
     "text": [
      "17401.15\n",
      "53      50271\n",
      "66      19900\n",
      "113     21000\n",
      "120     21453\n",
      "159     19378\n",
      "        ...  \n",
      "1396    57200\n",
      "1409    20544\n",
      "1423    19690\n",
      "1430    21930\n",
      "1446    26142\n",
      "Name: LotArea, Length: 73, dtype: int64\n"
     ]
    }
   ],
   "source": [
    "#Dropping the outlier rows with Percentiles\n",
    "upper_lim = train_data['LotArea'].quantile(.95)\n",
    "lower_lim = train_data['LotArea'].quantile(.05)\n",
    "\n",
    "print(upper_lim)\n",
    "\n",
    "outliers = train_data[train_data['LotArea'] > upper_lim]['LotArea']\n",
    "print(outliers)"
   ]
  },
  {
   "cell_type": "markdown",
   "metadata": {
    "papermill": {
     "duration": 0.049417,
     "end_time": "2021-03-24T15:14:40.845272",
     "exception": false,
     "start_time": "2021-03-24T15:14:40.795855",
     "status": "completed"
    },
    "tags": []
   },
   "source": [
    "Deleting Outliers"
   ]
  },
  {
   "cell_type": "code",
   "execution_count": 18,
   "metadata": {
    "execution": {
     "iopub.execute_input": "2021-03-24T15:14:40.949997Z",
     "iopub.status.busy": "2021-03-24T15:14:40.949284Z",
     "iopub.status.idle": "2021-03-24T15:14:40.951275Z",
     "shell.execute_reply": "2021-03-24T15:14:40.951805Z"
    },
    "papermill": {
     "duration": 0.056691,
     "end_time": "2021-03-24T15:14:40.951986",
     "exception": false,
     "start_time": "2021-03-24T15:14:40.895295",
     "status": "completed"
    },
    "tags": []
   },
   "outputs": [],
   "source": [
    "# Delete OutLiers\n",
    "# train_data = train_data[(train_data['LotArea'] < upper_lim) & (train_data['LotArea'] > lower_lim)]"
   ]
  },
  {
   "cell_type": "markdown",
   "metadata": {
    "papermill": {
     "duration": 0.049611,
     "end_time": "2021-03-24T15:14:41.052143",
     "exception": false,
     "start_time": "2021-03-24T15:14:41.002532",
     "status": "completed"
    },
    "tags": []
   },
   "source": [
    "**Note**\n",
    "\n",
    "Outliers removel is not always safe. We can decided to delete them as they are very huge and bad. For example, 1000 as an age of a person.\n",
    "\n",
    "There are probably others outliers in the training data. However, removing all them may affect badly our models if ever there were also outliers in the test data. That's why, instead of removing them all. we will just mange to make some of our models robust on them."
   ]
  },
  {
   "cell_type": "markdown",
   "metadata": {
    "papermill": {
     "duration": 0.050845,
     "end_time": "2021-03-24T15:14:41.153356",
     "exception": false,
     "start_time": "2021-03-24T15:14:41.102511",
     "status": "completed"
    },
    "tags": []
   },
   "source": [
    "## Exploring Target Variable"
   ]
  },
  {
   "cell_type": "code",
   "execution_count": 19,
   "metadata": {
    "execution": {
     "iopub.execute_input": "2021-03-24T15:14:41.258159Z",
     "iopub.status.busy": "2021-03-24T15:14:41.257475Z",
     "iopub.status.idle": "2021-03-24T15:14:41.266431Z",
     "shell.execute_reply": "2021-03-24T15:14:41.266934Z"
    },
    "papermill": {
     "duration": 0.062465,
     "end_time": "2021-03-24T15:14:41.267153",
     "exception": false,
     "start_time": "2021-03-24T15:14:41.204688",
     "status": "completed"
    },
    "tags": []
   },
   "outputs": [
    {
     "data": {
      "text/plain": [
       "count      1460.000000\n",
       "mean     180921.195890\n",
       "std       79442.502883\n",
       "min       34900.000000\n",
       "25%      129975.000000\n",
       "50%      163000.000000\n",
       "75%      214000.000000\n",
       "max      755000.000000\n",
       "Name: SalePrice, dtype: float64"
      ]
     },
     "execution_count": 19,
     "metadata": {},
     "output_type": "execute_result"
    }
   ],
   "source": [
    "SalePrice = train_data['SalePrice']\n",
    "SalePrice.describe()"
   ]
  },
  {
   "cell_type": "code",
   "execution_count": 20,
   "metadata": {
    "execution": {
     "iopub.execute_input": "2021-03-24T15:14:41.371819Z",
     "iopub.status.busy": "2021-03-24T15:14:41.371019Z",
     "iopub.status.idle": "2021-03-24T15:14:41.499202Z",
     "shell.execute_reply": "2021-03-24T15:14:41.499702Z"
    },
    "papermill": {
     "duration": 0.18219,
     "end_time": "2021-03-24T15:14:41.499889",
     "exception": false,
     "start_time": "2021-03-24T15:14:41.317699",
     "status": "completed"
    },
    "tags": []
   },
   "outputs": [
    {
     "data": {
      "image/png": "[encoded data removed]",
      "text/plain": [
       "<Figure size 432x288 with 1 Axes>"
      ]
     },
     "metadata": {
      "needs_background": "light"
     },
     "output_type": "display_data"
    }
   ],
   "source": [
    "ax = sns.boxplot(y = 'SalePrice', data = train_data)"
   ]
  },
  {
   "cell_type": "code",
   "execution_count": 21,
   "metadata": {
    "execution": {
     "iopub.execute_input": "2021-03-24T15:14:41.607391Z",
     "iopub.status.busy": "2021-03-24T15:14:41.606752Z",
     "iopub.status.idle": "2021-03-24T15:14:41.887460Z",
     "shell.execute_reply": "2021-03-24T15:14:41.886771Z"
    },
    "papermill": {
     "duration": 0.336435,
     "end_time": "2021-03-24T15:14:41.887635",
     "exception": false,
     "start_time": "2021-03-24T15:14:41.551200",
     "status": "completed"
    },
    "tags": []
   },
   "outputs": [
    {
     "name": "stderr",
     "output_type": "stream",
     "text": [
      "/opt/conda/lib/python3.7/site-packages/seaborn/distributions.py:2557: FutureWarning: `distplot` is a deprecated function and will be removed in a future version. Please adapt your code to use either `displot` (a figure-level function with similar flexibility) or `histplot` (an axes-level function for histograms).\n",
      "  warnings.warn(msg, FutureWarning)\n"
     ]
    },
    {
     "data": {
      "text/plain": [
       "<AxesSubplot:xlabel='SalePrice', ylabel='Density'>"
      ]
     },
     "execution_count": 21,
     "metadata": {},
     "output_type": "execute_result"
    },
    {
     "data": {
      "image/png": "[encoded data removed]",
      "text/plain": [
       "<Figure size 432x288 with 1 Axes>"
      ]
     },
     "metadata": {
      "needs_background": "light"
     },
     "output_type": "display_data"
    }
   ],
   "source": [
    "sns.distplot(SalePrice)\n"
   ]
  },
  {
   "cell_type": "markdown",
   "metadata": {
    "papermill": {
     "duration": 0.053499,
     "end_time": "2021-03-24T15:14:41.994908",
     "exception": false,
     "start_time": "2021-03-24T15:14:41.941409",
     "status": "completed"
    },
    "tags": []
   },
   "source": [
    "* target variable is positively skew\n",
    "* Normalizing target/dependent variable by logarit transformation"
   ]
  },
  {
   "cell_type": "code",
   "execution_count": 22,
   "metadata": {
    "execution": {
     "iopub.execute_input": "2021-03-24T15:14:42.109951Z",
     "iopub.status.busy": "2021-03-24T15:14:42.109174Z",
     "iopub.status.idle": "2021-03-24T15:14:42.112457Z",
     "shell.execute_reply": "2021-03-24T15:14:42.111804Z"
    },
    "papermill": {
     "duration": 0.063264,
     "end_time": "2021-03-24T15:14:42.112628",
     "exception": false,
     "start_time": "2021-03-24T15:14:42.049364",
     "status": "completed"
    },
    "tags": []
   },
   "outputs": [],
   "source": [
    "tranf_SalePrice = np.log(SalePrice)"
   ]
  },
  {
   "cell_type": "code",
   "execution_count": 23,
   "metadata": {
    "execution": {
     "iopub.execute_input": "2021-03-24T15:14:42.245308Z",
     "iopub.status.busy": "2021-03-24T15:14:42.242343Z",
     "iopub.status.idle": "2021-03-24T15:14:42.722467Z",
     "shell.execute_reply": "2021-03-24T15:14:42.721902Z"
    },
    "papermill": {
     "duration": 0.555511,
     "end_time": "2021-03-24T15:14:42.722638",
     "exception": false,
     "start_time": "2021-03-24T15:14:42.167127",
     "status": "completed"
    },
    "tags": []
   },
   "outputs": [
    {
     "name": "stderr",
     "output_type": "stream",
     "text": [
      "/opt/conda/lib/python3.7/site-packages/seaborn/distributions.py:2557: FutureWarning: `distplot` is a deprecated function and will be removed in a future version. Please adapt your code to use either `displot` (a figure-level function with similar flexibility) or `histplot` (an axes-level function for histograms).\n",
      "  warnings.warn(msg, FutureWarning)\n",
      "/opt/conda/lib/python3.7/site-packages/seaborn/distributions.py:2557: FutureWarning: `distplot` is a deprecated function and will be removed in a future version. Please adapt your code to use either `displot` (a figure-level function with similar flexibility) or `histplot` (an axes-level function for histograms).\n",
      "  warnings.warn(msg, FutureWarning)\n"
     ]
    },
    {
     "data": {
      "text/plain": [
       "<AxesSubplot:xlabel='Transformation SalePrice', ylabel='Density'>"
      ]
     },
     "execution_count": 23,
     "metadata": {},
     "output_type": "execute_result"
    },
    {
     "data": {
      "image/png": "[encoded data removed]",
      "text/plain": [
       "<Figure size 720x360 with 2 Axes>"
      ]
     },
     "metadata": {
      "needs_background": "light"
     },
     "output_type": "display_data"
    }
   ],
   "source": [
    "fig, ax = plt.subplots(1, 2, figsize=(10, 5))\n",
    "sns.distplot(SalePrice, ax=ax[0])\n",
    "sns.distplot(tranf_SalePrice, ax=ax[1], axlabel = 'Transformation SalePrice')"
   ]
  },
  {
   "cell_type": "markdown",
   "metadata": {
    "papermill": {
     "duration": 0.05449,
     "end_time": "2021-03-24T15:14:42.832254",
     "exception": false,
     "start_time": "2021-03-24T15:14:42.777764",
     "status": "completed"
    },
    "tags": []
   },
   "source": [
    "## Handling categorical variables\n",
    "\n",
    "get dummies all categorical variables"
   ]
  },
  {
   "cell_type": "code",
   "execution_count": 24,
   "metadata": {
    "execution": {
     "iopub.execute_input": "2021-03-24T15:14:42.955693Z",
     "iopub.status.busy": "2021-03-24T15:14:42.954803Z",
     "iopub.status.idle": "2021-03-24T15:14:43.019548Z",
     "shell.execute_reply": "2021-03-24T15:14:43.018893Z"
    },
    "papermill": {
     "duration": 0.132647,
     "end_time": "2021-03-24T15:14:43.019712",
     "exception": false,
     "start_time": "2021-03-24T15:14:42.887065",
     "status": "completed"
    },
    "tags": []
   },
   "outputs": [
    {
     "data": {
      "text/html": [
       "<div>\n",
       "<style scoped>\n",
       "    .dataframe tbody tr th:only-of-type {\n",
       "        vertical-align: middle;\n",
       "    }\n",
       "\n",
       "    .dataframe tbody tr th {\n",
       "        vertical-align: top;\n",
       "    }\n",
       "\n",
       "    .dataframe thead th {\n",
       "        text-align: right;\n",
       "    }\n",
       "</style>\n",
       "<table border=\"1\" class=\"dataframe\">\n",
       "  <thead>\n",
       "    <tr style=\"text-align: right;\">\n",
       "      <th></th>\n",
       "      <th>Id</th>\n",
       "      <th>MSSubClass</th>\n",
       "      <th>LotArea</th>\n",
       "      <th>OverallQual</th>\n",
       "      <th>OverallCond</th>\n",
       "      <th>YearBuilt</th>\n",
       "      <th>YearRemodAdd</th>\n",
       "      <th>MasVnrArea</th>\n",
       "      <th>BsmtFinSF1</th>\n",
       "      <th>BsmtFinSF2</th>\n",
       "      <th>...</th>\n",
       "      <th>SaleType_ConLw</th>\n",
       "      <th>SaleType_New</th>\n",
       "      <th>SaleType_Oth</th>\n",
       "      <th>SaleType_WD</th>\n",
       "      <th>SaleCondition_Abnorml</th>\n",
       "      <th>SaleCondition_AdjLand</th>\n",
       "      <th>SaleCondition_Alloca</th>\n",
       "      <th>SaleCondition_Family</th>\n",
       "      <th>SaleCondition_Normal</th>\n",
       "      <th>SaleCondition_Partial</th>\n",
       "    </tr>\n",
       "  </thead>\n",
       "  <tbody>\n",
       "    <tr>\n",
       "      <th>0</th>\n",
       "      <td>1</td>\n",
       "      <td>60</td>\n",
       "      <td>8450</td>\n",
       "      <td>7</td>\n",
       "      <td>5</td>\n",
       "      <td>2003</td>\n",
       "      <td>2003</td>\n",
       "      <td>196.0</td>\n",
       "      <td>706</td>\n",
       "      <td>0</td>\n",
       "      <td>...</td>\n",
       "      <td>0</td>\n",
       "      <td>0</td>\n",
       "      <td>0</td>\n",
       "      <td>1</td>\n",
       "      <td>0</td>\n",
       "      <td>0</td>\n",
       "      <td>0</td>\n",
       "      <td>0</td>\n",
       "      <td>1</td>\n",
       "      <td>0</td>\n",
       "    </tr>\n",
       "    <tr>\n",
       "      <th>1</th>\n",
       "      <td>2</td>\n",
       "      <td>20</td>\n",
       "      <td>9600</td>\n",
       "      <td>6</td>\n",
       "      <td>8</td>\n",
       "      <td>1976</td>\n",
       "      <td>1976</td>\n",
       "      <td>0.0</td>\n",
       "      <td>978</td>\n",
       "      <td>0</td>\n",
       "      <td>...</td>\n",
       "      <td>0</td>\n",
       "      <td>0</td>\n",
       "      <td>0</td>\n",
       "      <td>1</td>\n",
       "      <td>0</td>\n",
       "      <td>0</td>\n",
       "      <td>0</td>\n",
       "      <td>0</td>\n",
       "      <td>1</td>\n",
       "      <td>0</td>\n",
       "    </tr>\n",
       "    <tr>\n",
       "      <th>2</th>\n",
       "      <td>3</td>\n",
       "      <td>60</td>\n",
       "      <td>11250</td>\n",
       "      <td>7</td>\n",
       "      <td>5</td>\n",
       "      <td>2001</td>\n",
       "      <td>2002</td>\n",
       "      <td>162.0</td>\n",
       "      <td>486</td>\n",
       "      <td>0</td>\n",
       "      <td>...</td>\n",
       "      <td>0</td>\n",
       "      <td>0</td>\n",
       "      <td>0</td>\n",
       "      <td>1</td>\n",
       "      <td>0</td>\n",
       "      <td>0</td>\n",
       "      <td>0</td>\n",
       "      <td>0</td>\n",
       "      <td>1</td>\n",
       "      <td>0</td>\n",
       "    </tr>\n",
       "    <tr>\n",
       "      <th>3</th>\n",
       "      <td>4</td>\n",
       "      <td>70</td>\n",
       "      <td>9550</td>\n",
       "      <td>7</td>\n",
       "      <td>5</td>\n",
       "      <td>1915</td>\n",
       "      <td>1970</td>\n",
       "      <td>0.0</td>\n",
       "      <td>216</td>\n",
       "      <td>0</td>\n",
       "      <td>...</td>\n",
       "      <td>0</td>\n",
       "      <td>0</td>\n",
       "      <td>0</td>\n",
       "      <td>1</td>\n",
       "      <td>1</td>\n",
       "      <td>0</td>\n",
       "      <td>0</td>\n",
       "      <td>0</td>\n",
       "      <td>0</td>\n",
       "      <td>0</td>\n",
       "    </tr>\n",
       "    <tr>\n",
       "      <th>4</th>\n",
       "      <td>5</td>\n",
       "      <td>60</td>\n",
       "      <td>14260</td>\n",
       "      <td>8</td>\n",
       "      <td>5</td>\n",
       "      <td>2000</td>\n",
       "      <td>2000</td>\n",
       "      <td>350.0</td>\n",
       "      <td>655</td>\n",
       "      <td>0</td>\n",
       "      <td>...</td>\n",
       "      <td>0</td>\n",
       "      <td>0</td>\n",
       "      <td>0</td>\n",
       "      <td>1</td>\n",
       "      <td>0</td>\n",
       "      <td>0</td>\n",
       "      <td>0</td>\n",
       "      <td>0</td>\n",
       "      <td>1</td>\n",
       "      <td>0</td>\n",
       "    </tr>\n",
       "    <tr>\n",
       "      <th>...</th>\n",
       "      <td>...</td>\n",
       "      <td>...</td>\n",
       "      <td>...</td>\n",
       "      <td>...</td>\n",
       "      <td>...</td>\n",
       "      <td>...</td>\n",
       "      <td>...</td>\n",
       "      <td>...</td>\n",
       "      <td>...</td>\n",
       "      <td>...</td>\n",
       "      <td>...</td>\n",
       "      <td>...</td>\n",
       "      <td>...</td>\n",
       "      <td>...</td>\n",
       "      <td>...</td>\n",
       "      <td>...</td>\n",
       "      <td>...</td>\n",
       "      <td>...</td>\n",
       "      <td>...</td>\n",
       "      <td>...</td>\n",
       "      <td>...</td>\n",
       "    </tr>\n",
       "    <tr>\n",
       "      <th>1455</th>\n",
       "      <td>1456</td>\n",
       "      <td>60</td>\n",
       "      <td>7917</td>\n",
       "      <td>6</td>\n",
       "      <td>5</td>\n",
       "      <td>1999</td>\n",
       "      <td>2000</td>\n",
       "      <td>0.0</td>\n",
       "      <td>0</td>\n",
       "      <td>0</td>\n",
       "      <td>...</td>\n",
       "      <td>0</td>\n",
       "      <td>0</td>\n",
       "      <td>0</td>\n",
       "      <td>1</td>\n",
       "      <td>0</td>\n",
       "      <td>0</td>\n",
       "      <td>0</td>\n",
       "      <td>0</td>\n",
       "      <td>1</td>\n",
       "      <td>0</td>\n",
       "    </tr>\n",
       "    <tr>\n",
       "      <th>1456</th>\n",
       "      <td>1457</td>\n",
       "      <td>20</td>\n",
       "      <td>13175</td>\n",
       "      <td>6</td>\n",
       "      <td>6</td>\n",
       "      <td>1978</td>\n",
       "      <td>1988</td>\n",
       "      <td>119.0</td>\n",
       "      <td>790</td>\n",
       "      <td>163</td>\n",
       "      <td>...</td>\n",
       "      <td>0</td>\n",
       "      <td>0</td>\n",
       "      <td>0</td>\n",
       "      <td>1</td>\n",
       "      <td>0</td>\n",
       "      <td>0</td>\n",
       "      <td>0</td>\n",
       "      <td>0</td>\n",
       "      <td>1</td>\n",
       "      <td>0</td>\n",
       "    </tr>\n",
       "    <tr>\n",
       "      <th>1457</th>\n",
       "      <td>1458</td>\n",
       "      <td>70</td>\n",
       "      <td>9042</td>\n",
       "      <td>7</td>\n",
       "      <td>9</td>\n",
       "      <td>1941</td>\n",
       "      <td>2006</td>\n",
       "      <td>0.0</td>\n",
       "      <td>275</td>\n",
       "      <td>0</td>\n",
       "      <td>...</td>\n",
       "      <td>0</td>\n",
       "      <td>0</td>\n",
       "      <td>0</td>\n",
       "      <td>1</td>\n",
       "      <td>0</td>\n",
       "      <td>0</td>\n",
       "      <td>0</td>\n",
       "      <td>0</td>\n",
       "      <td>1</td>\n",
       "      <td>0</td>\n",
       "    </tr>\n",
       "    <tr>\n",
       "      <th>1458</th>\n",
       "      <td>1459</td>\n",
       "      <td>20</td>\n",
       "      <td>9717</td>\n",
       "      <td>5</td>\n",
       "      <td>6</td>\n",
       "      <td>1950</td>\n",
       "      <td>1996</td>\n",
       "      <td>0.0</td>\n",
       "      <td>49</td>\n",
       "      <td>1029</td>\n",
       "      <td>...</td>\n",
       "      <td>0</td>\n",
       "      <td>0</td>\n",
       "      <td>0</td>\n",
       "      <td>1</td>\n",
       "      <td>0</td>\n",
       "      <td>0</td>\n",
       "      <td>0</td>\n",
       "      <td>0</td>\n",
       "      <td>1</td>\n",
       "      <td>0</td>\n",
       "    </tr>\n",
       "    <tr>\n",
       "      <th>1459</th>\n",
       "      <td>1460</td>\n",
       "      <td>20</td>\n",
       "      <td>9937</td>\n",
       "      <td>5</td>\n",
       "      <td>6</td>\n",
       "      <td>1965</td>\n",
       "      <td>1965</td>\n",
       "      <td>0.0</td>\n",
       "      <td>830</td>\n",
       "      <td>290</td>\n",
       "      <td>...</td>\n",
       "      <td>0</td>\n",
       "      <td>0</td>\n",
       "      <td>0</td>\n",
       "      <td>1</td>\n",
       "      <td>0</td>\n",
       "      <td>0</td>\n",
       "      <td>0</td>\n",
       "      <td>0</td>\n",
       "      <td>1</td>\n",
       "      <td>0</td>\n",
       "    </tr>\n",
       "  </tbody>\n",
       "</table>\n",
       "<p>1460 rows × 280 columns</p>\n",
       "</div>"
      ],
      "text/plain": [
       "        Id  MSSubClass  LotArea  OverallQual  OverallCond  YearBuilt  \\\n",
       "0        1          60     8450            7            5       2003   \n",
       "1        2          20     9600            6            8       1976   \n",
       "2        3          60    11250            7            5       2001   \n",
       "3        4          70     9550            7            5       1915   \n",
       "4        5          60    14260            8            5       2000   \n",
       "...    ...         ...      ...          ...          ...        ...   \n",
       "1455  1456          60     7917            6            5       1999   \n",
       "1456  1457          20    13175            6            6       1978   \n",
       "1457  1458          70     9042            7            9       1941   \n",
       "1458  1459          20     9717            5            6       1950   \n",
       "1459  1460          20     9937            5            6       1965   \n",
       "\n",
       "      YearRemodAdd  MasVnrArea  BsmtFinSF1  BsmtFinSF2  ...  SaleType_ConLw  \\\n",
       "0             2003       196.0         706           0  ...               0   \n",
       "1             1976         0.0         978           0  ...               0   \n",
       "2             2002       162.0         486           0  ...               0   \n",
       "3             1970         0.0         216           0  ...               0   \n",
       "4             2000       350.0         655           0  ...               0   \n",
       "...            ...         ...         ...         ...  ...             ...   \n",
       "1455          2000         0.0           0           0  ...               0   \n",
       "1456          1988       119.0         790         163  ...               0   \n",
       "1457          2006         0.0         275           0  ...               0   \n",
       "1458          1996         0.0          49        1029  ...               0   \n",
       "1459          1965         0.0         830         290  ...               0   \n",
       "\n",
       "      SaleType_New  SaleType_Oth  SaleType_WD  SaleCondition_Abnorml  \\\n",
       "0                0             0            1                      0   \n",
       "1                0             0            1                      0   \n",
       "2                0             0            1                      0   \n",
       "3                0             0            1                      1   \n",
       "4                0             0            1                      0   \n",
       "...            ...           ...          ...                    ...   \n",
       "1455             0             0            1                      0   \n",
       "1456             0             0            1                      0   \n",
       "1457             0             0            1                      0   \n",
       "1458             0             0            1                      0   \n",
       "1459             0             0            1                      0   \n",
       "\n",
       "      SaleCondition_AdjLand  SaleCondition_Alloca  SaleCondition_Family  \\\n",
       "0                         0                     0                     0   \n",
       "1                         0                     0                     0   \n",
       "2                         0                     0                     0   \n",
       "3                         0                     0                     0   \n",
       "4                         0                     0                     0   \n",
       "...                     ...                   ...                   ...   \n",
       "1455                      0                     0                     0   \n",
       "1456                      0                     0                     0   \n",
       "1457                      0                     0                     0   \n",
       "1458                      0                     0                     0   \n",
       "1459                      0                     0                     0   \n",
       "\n",
       "      SaleCondition_Normal  SaleCondition_Partial  \n",
       "0                        1                      0  \n",
       "1                        1                      0  \n",
       "2                        1                      0  \n",
       "3                        0                      0  \n",
       "4                        1                      0  \n",
       "...                    ...                    ...  \n",
       "1455                     1                      0  \n",
       "1456                     1                      0  \n",
       "1457                     1                      0  \n",
       "1458                     1                      0  \n",
       "1459                     1                      0  \n",
       "\n",
       "[1460 rows x 280 columns]"
      ]
     },
     "execution_count": 24,
     "metadata": {},
     "output_type": "execute_result"
    }
   ],
   "source": [
    "train_data = pd.get_dummies(train_data)\n",
    "train_data"
   ]
  },
  {
   "cell_type": "markdown",
   "metadata": {
    "papermill": {
     "duration": 0.056892,
     "end_time": "2021-03-24T15:14:43.132837",
     "exception": false,
     "start_time": "2021-03-24T15:14:43.075945",
     "status": "completed"
    },
    "tags": []
   },
   "source": [
    "# Feature Selection\n",
    "\n",
    "The purposes of selecting features optimizing to get high performance of models and remove irrelevant features. It is also help reduce dimensions. \n"
   ]
  },
  {
   "cell_type": "markdown",
   "metadata": {
    "papermill": {
     "duration": 0.05668,
     "end_time": "2021-03-24T15:14:43.247912",
     "exception": false,
     "start_time": "2021-03-24T15:14:43.191232",
     "status": "completed"
    },
    "tags": []
   },
   "source": [
    "# Model Building\n",
    "\n"
   ]
  },
  {
   "cell_type": "markdown",
   "metadata": {
    "papermill": {
     "duration": 0.056877,
     "end_time": "2021-03-24T15:14:43.361335",
     "exception": false,
     "start_time": "2021-03-24T15:14:43.304458",
     "status": "completed"
    },
    "tags": []
   },
   "source": [
    "3 Best Metrics to evaluate Regression Model\n",
    "\n",
    "1. R Square\n",
    "\n",
    "    R square is a good measure to determine how well the model fits the dependent variables. However, it doesn't take into consideration of overfitting problem.\n",
    "    <img src=\"https://latex.codecogs.com/svg.latex?\\Large&space; R^2= 1 - \\frac{\\sum_{i} (y_i-y_{ipred})^2}{\\sum_{i} (y_i-y_{mean})^2}\"/>\n",
    "    \n",
    "2. Mean Square Error / Root Mean Square Error(RMSE)\n",
    "    \n",
    "    Mean Square Error is an absolute measure of the goodness for the fit.\n",
    "\n",
    "    <img src=\"https://latex.codecogs.com/svg.latex?\\Large&space; MSE= \\frac{1}{N} \\sum^{N}_{i=1}  (y_i-y_{ipred})^2 \"/>\n",
    "    \n",
    "    RMSE is square root of Mean Square Error\n",
    "\n",
    "3. Mean Absolute Error(MAE)\n",
    "\n",
    "    Compare to MSE/RMSE, MAE is more direct representation of sum of error terms.\n",
    "    MSE gives larger penalisation to big prediction error by square it while MAE treats all error the same\n",
    "    <img src=\"https://latex.codecogs.com/svg.latex?\\Large&space; MAE= \\frac{1}{N} \\sum^{N}_{i=1}  |y_i-y_{ipred}| \"/>"
   ]
  },
  {
   "cell_type": "markdown",
   "metadata": {
    "papermill": {
     "duration": 0.055917,
     "end_time": "2021-03-24T15:14:43.474774",
     "exception": false,
     "start_time": "2021-03-24T15:14:43.418857",
     "status": "completed"
    },
    "tags": []
   },
   "source": [
    "### Split Data"
   ]
  },
  {
   "cell_type": "code",
   "execution_count": 25,
   "metadata": {
    "execution": {
     "iopub.execute_input": "2021-03-24T15:14:43.592700Z",
     "iopub.status.busy": "2021-03-24T15:14:43.591988Z",
     "iopub.status.idle": "2021-03-24T15:14:43.594999Z",
     "shell.execute_reply": "2021-03-24T15:14:43.594323Z"
    },
    "papermill": {
     "duration": 0.06426,
     "end_time": "2021-03-24T15:14:43.595189",
     "exception": false,
     "start_time": "2021-03-24T15:14:43.530929",
     "status": "completed"
    },
    "tags": []
   },
   "outputs": [],
   "source": [
    "columns = list(train_data.columns)\n",
    "columns.remove('Id')\n",
    "columns.remove('SalePrice')"
   ]
  },
  {
   "cell_type": "code",
   "execution_count": 26,
   "metadata": {
    "execution": {
     "iopub.execute_input": "2021-03-24T15:14:43.714869Z",
     "iopub.status.busy": "2021-03-24T15:14:43.714089Z",
     "iopub.status.idle": "2021-03-24T15:14:43.724387Z",
     "shell.execute_reply": "2021-03-24T15:14:43.723791Z"
    },
    "papermill": {
     "duration": 0.073361,
     "end_time": "2021-03-24T15:14:43.724552",
     "exception": false,
     "start_time": "2021-03-24T15:14:43.651191",
     "status": "completed"
    },
    "tags": []
   },
   "outputs": [],
   "source": [
    "X = train_data[columns]\n",
    "y = train_data['SalePrice']\n",
    "\n",
    "# Train Test split\n",
    "X_train, X_test, y_train, y_test = train_test_split(X, y, test_size=0.2, random_state=40)"
   ]
  },
  {
   "cell_type": "markdown",
   "metadata": {
    "papermill": {
     "duration": 0.056159,
     "end_time": "2021-03-24T15:14:43.837551",
     "exception": false,
     "start_time": "2021-03-24T15:14:43.781392",
     "status": "completed"
    },
    "tags": []
   },
   "source": [
    "### Linear Regression (Ordinary least squares)\n",
    "\n",
    "Linear regression is the simplest and most classic linear method for regression. Linear regression finds the parameters w and b that minimize the **mean squared error** between predictions and the true regression targets,y, on the training set. \n",
    "\n",
    "The mean squared error is the sum of the squared differences between the predictions and the true values."
   ]
  },
  {
   "cell_type": "code",
   "execution_count": 27,
   "metadata": {
    "execution": {
     "iopub.execute_input": "2021-03-24T15:14:43.962010Z",
     "iopub.status.busy": "2021-03-24T15:14:43.960796Z",
     "iopub.status.idle": "2021-03-24T15:14:44.033942Z",
     "shell.execute_reply": "2021-03-24T15:14:44.031979Z"
    },
    "papermill": {
     "duration": 0.139284,
     "end_time": "2021-03-24T15:14:44.034203",
     "exception": false,
     "start_time": "2021-03-24T15:14:43.894919",
     "status": "completed"
    },
    "tags": []
   },
   "outputs": [
    {
     "data": {
      "text/plain": [
       "LinearRegression()"
      ]
     },
     "execution_count": 27,
     "metadata": {},
     "output_type": "execute_result"
    }
   ],
   "source": [
    "# Linear Regression Model\n",
    "lr = LinearRegression()\n",
    "lr.fit(X_train, y_train)"
   ]
  },
  {
   "cell_type": "code",
   "execution_count": 28,
   "metadata": {
    "execution": {
     "iopub.execute_input": "2021-03-24T15:14:44.203891Z",
     "iopub.status.busy": "2021-03-24T15:14:44.203191Z",
     "iopub.status.idle": "2021-03-24T15:14:44.206922Z",
     "shell.execute_reply": "2021-03-24T15:14:44.206324Z"
    },
    "papermill": {
     "duration": 0.070584,
     "end_time": "2021-03-24T15:14:44.207080",
     "exception": false,
     "start_time": "2021-03-24T15:14:44.136496",
     "status": "completed"
    },
    "tags": []
   },
   "outputs": [],
   "source": [
    "#Prediction\n",
    "y_pred = lr.predict(X_test)"
   ]
  },
  {
   "cell_type": "markdown",
   "metadata": {
    "papermill": {
     "duration": 0.05641,
     "end_time": "2021-03-24T15:14:44.319915",
     "exception": false,
     "start_time": "2021-03-24T15:14:44.263505",
     "status": "completed"
    },
    "tags": []
   },
   "source": [
    "**Evaluate Linear Regression**"
   ]
  },
  {
   "cell_type": "code",
   "execution_count": 29,
   "metadata": {
    "execution": {
     "iopub.execute_input": "2021-03-24T15:14:44.443034Z",
     "iopub.status.busy": "2021-03-24T15:14:44.442221Z",
     "iopub.status.idle": "2021-03-24T15:14:44.455697Z",
     "shell.execute_reply": "2021-03-24T15:14:44.454990Z"
    },
    "papermill": {
     "duration": 0.079159,
     "end_time": "2021-03-24T15:14:44.455855",
     "exception": false,
     "start_time": "2021-03-24T15:14:44.376696",
     "status": "completed"
    },
    "tags": []
   },
   "outputs": [
    {
     "name": "stdout",
     "output_type": "stream",
     "text": [
      "Training set score: 0.94\n",
      "Test set score: 0.86\n"
     ]
    }
   ],
   "source": [
    "# R square\n",
    "R2 = lr.score(X_test, y_test)\n",
    "print(\"Training set score: {:.2f}\".format(lr.score(X_train, y_train)))\n",
    "print(\"Test set score: {:.2f}\".format(R2))"
   ]
  },
  {
   "cell_type": "code",
   "execution_count": 30,
   "metadata": {
    "execution": {
     "iopub.execute_input": "2021-03-24T15:14:44.577622Z",
     "iopub.status.busy": "2021-03-24T15:14:44.576695Z",
     "iopub.status.idle": "2021-03-24T15:14:44.580768Z",
     "shell.execute_reply": "2021-03-24T15:14:44.580219Z"
    },
    "papermill": {
     "duration": 0.067594,
     "end_time": "2021-03-24T15:14:44.580919",
     "exception": false,
     "start_time": "2021-03-24T15:14:44.513325",
     "status": "completed"
    },
    "tags": []
   },
   "outputs": [
    {
     "name": "stdout",
     "output_type": "stream",
     "text": [
      "Root Mean Squared Error: 26995.24\n"
     ]
    }
   ],
   "source": [
    "# Root Mean Squared Error\n",
    "mse = mean_squared_error(y_test, y_pred)\n",
    "rmse = np.sqrt(mean_squared_error(y_test, y_pred))\n",
    "print(\"Root Mean Squared Error: {:.2f}\".format(rmse))"
   ]
  },
  {
   "cell_type": "code",
   "execution_count": 31,
   "metadata": {
    "execution": {
     "iopub.execute_input": "2021-03-24T15:14:44.704895Z",
     "iopub.status.busy": "2021-03-24T15:14:44.704081Z",
     "iopub.status.idle": "2021-03-24T15:14:44.708364Z",
     "shell.execute_reply": "2021-03-24T15:14:44.707695Z"
    },
    "papermill": {
     "duration": 0.068627,
     "end_time": "2021-03-24T15:14:44.708511",
     "exception": false,
     "start_time": "2021-03-24T15:14:44.639884",
     "status": "completed"
    },
    "tags": []
   },
   "outputs": [
    {
     "name": "stdout",
     "output_type": "stream",
     "text": [
      "Mean Absolute Error:  17343.192530521927\n"
     ]
    }
   ],
   "source": [
    "# Mean Absolute Error (MAE)\n",
    "mae = mean_absolute_error(y_test, y_pred)\n",
    "print('Mean Absolute Error: ', mae)"
   ]
  },
  {
   "cell_type": "code",
   "execution_count": 32,
   "metadata": {
    "execution": {
     "iopub.execute_input": "2021-03-24T15:14:44.833899Z",
     "iopub.status.busy": "2021-03-24T15:14:44.833080Z",
     "iopub.status.idle": "2021-03-24T15:14:44.836232Z",
     "shell.execute_reply": "2021-03-24T15:14:44.835721Z"
    },
    "papermill": {
     "duration": 0.068828,
     "end_time": "2021-03-24T15:14:44.836380",
     "exception": false,
     "start_time": "2021-03-24T15:14:44.767552",
     "status": "completed"
    },
    "tags": []
   },
   "outputs": [],
   "source": [
    "E1 = ['Linear Regression', R2, rmse, mae ]"
   ]
  },
  {
   "cell_type": "raw",
   "metadata": {
    "papermill": {
     "duration": 0.058439,
     "end_time": "2021-03-24T15:14:44.952781",
     "exception": false,
     "start_time": "2021-03-24T15:14:44.894342",
     "status": "completed"
    },
    "tags": []
   },
   "source": [
    "### Ridge Regression\n",
    "Ridge regression is also a linear model for regression, so the formula it ues to make predictions is the same one for ordinary least squares. we want the magnitue of coefficients to be as small as possible, in other words, all entries of w should be close to zero. This means each feature should have as little effect on the outcome as possible, while still predicting well. Regularization means explicitly restricting a model to avoid overfitting. The particular kind used by ridge regression is known as L2 regularization."
   ]
  },
  {
   "cell_type": "code",
   "execution_count": 33,
   "metadata": {
    "execution": {
     "iopub.execute_input": "2021-03-24T15:14:45.083749Z",
     "iopub.status.busy": "2021-03-24T15:14:45.082481Z",
     "iopub.status.idle": "2021-03-24T15:14:45.177887Z",
     "shell.execute_reply": "2021-03-24T15:14:45.178763Z"
    },
    "papermill": {
     "duration": 0.167116,
     "end_time": "2021-03-24T15:14:45.179019",
     "exception": false,
     "start_time": "2021-03-24T15:14:45.011903",
     "status": "completed"
    },
    "tags": []
   },
   "outputs": [
    {
     "name": "stdout",
     "output_type": "stream",
     "text": [
      "Training set score: 0.92\n",
      "Test set score: 0.86\n",
      "Number of features used: 273\n"
     ]
    }
   ],
   "source": [
    "ridge = Ridge().fit(X_train, y_train)\n",
    "print(\"Training set score: {:.2f}\".format(ridge.score(X_train, y_train)))\n",
    "print(\"Test set score: {:.2f}\".format(ridge.score(X_test, y_test)))\n",
    "print(\"Number of features used: {}\".format(np.sum(ridge.coef_ != 0)))"
   ]
  },
  {
   "cell_type": "markdown",
   "metadata": {
    "papermill": {
     "duration": 0.058383,
     "end_time": "2021-03-24T15:14:45.339257",
     "exception": false,
     "start_time": "2021-03-24T15:14:45.280874",
     "status": "completed"
    },
    "tags": []
   },
   "source": [
    "As you can see, the training ser score of Ridge is lower than for Linear Regression, while the test set score is higher. A less complex model means worse performance on training set, but better generalization. As we are only interested in generalization performance, we should choose the Rigde model over the LinearRegression model.\n",
    "\n",
    "\n",
    "In this example, we used the defaul paramater alpha = 1.0. The optimim setting of alpha depends on the particular dataset we are using. Increasing alpha forces coefficients to move toward zero, which decreases training set performance but might help generalization."
   ]
  },
  {
   "cell_type": "code",
   "execution_count": 34,
   "metadata": {
    "execution": {
     "iopub.execute_input": "2021-03-24T15:14:45.469099Z",
     "iopub.status.busy": "2021-03-24T15:14:45.467865Z",
     "iopub.status.idle": "2021-03-24T15:14:45.574949Z",
     "shell.execute_reply": "2021-03-24T15:14:45.576143Z"
    },
    "papermill": {
     "duration": 0.178465,
     "end_time": "2021-03-24T15:14:45.576459",
     "exception": false,
     "start_time": "2021-03-24T15:14:45.397994",
     "status": "completed"
    },
    "tags": []
   },
   "outputs": [
    {
     "name": "stdout",
     "output_type": "stream",
     "text": [
      "Training set score: 0.90\n",
      "Test set score: 0.87\n",
      "Number of features used: 273\n"
     ]
    }
   ],
   "source": [
    "ridge10 = Ridge(alpha=10).fit(X_train, y_train)\n",
    "print(\"Training set score: {:.2f}\".format(ridge10.score(X_train, y_train)))\n",
    "print(\"Test set score: {:.2f}\".format(ridge10.score(X_test, y_test)))\n",
    "print(\"Number of features used: {}\".format(np.sum(ridge10.coef_ != 0)))"
   ]
  },
  {
   "cell_type": "code",
   "execution_count": 35,
   "metadata": {
    "execution": {
     "iopub.execute_input": "2021-03-24T15:14:45.739812Z",
     "iopub.status.busy": "2021-03-24T15:14:45.739095Z",
     "iopub.status.idle": "2021-03-24T15:14:45.844581Z",
     "shell.execute_reply": "2021-03-24T15:14:45.845472Z"
    },
    "papermill": {
     "duration": 0.172177,
     "end_time": "2021-03-24T15:14:45.845766",
     "exception": false,
     "start_time": "2021-03-24T15:14:45.673589",
     "status": "completed"
    },
    "tags": []
   },
   "outputs": [
    {
     "name": "stdout",
     "output_type": "stream",
     "text": [
      "Training set score: 0.93\n",
      "Test set score: 0.86\n",
      "Number of features used: 273\n"
     ]
    }
   ],
   "source": [
    "ridge01 = Ridge(alpha=0.1).fit(X_train, y_train)\n",
    "print(\"Training set score: {:.2f}\".format(ridge01.score(X_train, y_train)))\n",
    "print(\"Test set score: {:.2f}\".format(ridge01.score(X_test, y_test)))\n",
    "print(\"Number of features used: {}\".format(np.sum(ridge01.coef_ != 0)))"
   ]
  },
  {
   "cell_type": "code",
   "execution_count": 36,
   "metadata": {
    "execution": {
     "iopub.execute_input": "2021-03-24T15:14:46.014361Z",
     "iopub.status.busy": "2021-03-24T15:14:46.013445Z",
     "iopub.status.idle": "2021-03-24T15:14:46.017537Z",
     "shell.execute_reply": "2021-03-24T15:14:46.016887Z"
    },
    "papermill": {
     "duration": 0.073695,
     "end_time": "2021-03-24T15:14:46.017696",
     "exception": false,
     "start_time": "2021-03-24T15:14:45.944001",
     "status": "completed"
    },
    "tags": []
   },
   "outputs": [],
   "source": [
    "#Prediction\n",
    "y_pred = ridge.predict(X_test)"
   ]
  },
  {
   "cell_type": "markdown",
   "metadata": {
    "papermill": {
     "duration": 0.06038,
     "end_time": "2021-03-24T15:14:46.138962",
     "exception": false,
     "start_time": "2021-03-24T15:14:46.078582",
     "status": "completed"
    },
    "tags": []
   },
   "source": [
    "**Evaluate Ridge Regression**"
   ]
  },
  {
   "cell_type": "code",
   "execution_count": 37,
   "metadata": {
    "execution": {
     "iopub.execute_input": "2021-03-24T15:14:46.269955Z",
     "iopub.status.busy": "2021-03-24T15:14:46.269079Z",
     "iopub.status.idle": "2021-03-24T15:14:46.280247Z",
     "shell.execute_reply": "2021-03-24T15:14:46.279555Z"
    },
    "papermill": {
     "duration": 0.080546,
     "end_time": "2021-03-24T15:14:46.280388",
     "exception": false,
     "start_time": "2021-03-24T15:14:46.199842",
     "status": "completed"
    },
    "tags": []
   },
   "outputs": [
    {
     "name": "stdout",
     "output_type": "stream",
     "text": [
      "Training set score: 0.92\n",
      "Test set score: 0.86\n"
     ]
    }
   ],
   "source": [
    "# R square\n",
    "R2 = ridge.score(X_test, y_test)\n",
    "print(\"Training set score: {:.2f}\".format(ridge.score(X_train, y_train)))\n",
    "print(\"Test set score: {:.2f}\".format(R2))"
   ]
  },
  {
   "cell_type": "code",
   "execution_count": 38,
   "metadata": {
    "execution": {
     "iopub.execute_input": "2021-03-24T15:14:46.404351Z",
     "iopub.status.busy": "2021-03-24T15:14:46.403712Z",
     "iopub.status.idle": "2021-03-24T15:14:46.410150Z",
     "shell.execute_reply": "2021-03-24T15:14:46.410772Z"
    },
    "papermill": {
     "duration": 0.070568,
     "end_time": "2021-03-24T15:14:46.410949",
     "exception": false,
     "start_time": "2021-03-24T15:14:46.340381",
     "status": "completed"
    },
    "tags": []
   },
   "outputs": [
    {
     "name": "stdout",
     "output_type": "stream",
     "text": [
      "Root Mean Squared Error: 26800.09\n"
     ]
    }
   ],
   "source": [
    "# Root Mean Squared Error\n",
    "mse = mean_squared_error(y_test, y_pred)\n",
    "rmse = np.sqrt(mean_squared_error(y_test, y_pred))\n",
    "print(\"Root Mean Squared Error: {:.2f}\".format(rmse))"
   ]
  },
  {
   "cell_type": "code",
   "execution_count": 39,
   "metadata": {
    "execution": {
     "iopub.execute_input": "2021-03-24T15:14:46.534959Z",
     "iopub.status.busy": "2021-03-24T15:14:46.534316Z",
     "iopub.status.idle": "2021-03-24T15:14:46.540064Z",
     "shell.execute_reply": "2021-03-24T15:14:46.540691Z"
    },
    "papermill": {
     "duration": 0.069789,
     "end_time": "2021-03-24T15:14:46.540866",
     "exception": false,
     "start_time": "2021-03-24T15:14:46.471077",
     "status": "completed"
    },
    "tags": []
   },
   "outputs": [
    {
     "name": "stdout",
     "output_type": "stream",
     "text": [
      "Mean Absolute Error:  17992.606090476478\n"
     ]
    }
   ],
   "source": [
    "# Mean Absolute Error (MAE)\n",
    "mae = mean_absolute_error(y_test, y_pred)\n",
    "print('Mean Absolute Error: ', mae)"
   ]
  },
  {
   "cell_type": "code",
   "execution_count": 40,
   "metadata": {
    "execution": {
     "iopub.execute_input": "2021-03-24T15:14:46.665910Z",
     "iopub.status.busy": "2021-03-24T15:14:46.665264Z",
     "iopub.status.idle": "2021-03-24T15:14:46.670385Z",
     "shell.execute_reply": "2021-03-24T15:14:46.669862Z"
    },
    "papermill": {
     "duration": 0.068879,
     "end_time": "2021-03-24T15:14:46.670558",
     "exception": false,
     "start_time": "2021-03-24T15:14:46.601679",
     "status": "completed"
    },
    "tags": []
   },
   "outputs": [],
   "source": [
    "E2 = ['Ridge Regression', R2, rmse, mae ]"
   ]
  },
  {
   "cell_type": "markdown",
   "metadata": {
    "papermill": {
     "duration": 0.061912,
     "end_time": "2021-03-24T15:14:46.794372",
     "exception": false,
     "start_time": "2021-03-24T15:14:46.732460",
     "status": "completed"
    },
    "tags": []
   },
   "source": [
    "### Lasso\n",
    "\n",
    "An alternative to Ridge for regularizing linear regression. As with ridge regression, using the Lasso also retricts coefficients to be close to zero, but in slightly different way, called L1 regularization. The consequence of L1 regulazition is that using the Lasso, some coefficients are exactly zero. This means some fearures are entirely ignored by the model. This can be seen as a form of automatic feature selection. Having some coefficients be exactly zero often makes a model easier to interpret and can reveal the most important features of model. "
   ]
  },
  {
   "cell_type": "code",
   "execution_count": 41,
   "metadata": {
    "execution": {
     "iopub.execute_input": "2021-03-24T15:14:46.930706Z",
     "iopub.status.busy": "2021-03-24T15:14:46.929530Z",
     "iopub.status.idle": "2021-03-24T15:14:47.346198Z",
     "shell.execute_reply": "2021-03-24T15:14:47.347191Z"
    },
    "papermill": {
     "duration": 0.491594,
     "end_time": "2021-03-24T15:14:47.347486",
     "exception": false,
     "start_time": "2021-03-24T15:14:46.855892",
     "status": "completed"
    },
    "tags": []
   },
   "outputs": [
    {
     "name": "stdout",
     "output_type": "stream",
     "text": [
      "Training set score: 0.94\n",
      "Test set score: 0.88\n",
      "Number of features used: 237\n"
     ]
    },
    {
     "name": "stderr",
     "output_type": "stream",
     "text": [
      "/opt/conda/lib/python3.7/site-packages/sklearn/linear_model/_coordinate_descent.py:532: ConvergenceWarning: Objective did not converge. You might want to increase the number of iterations. Duality gap: 252679581911.41214, tolerance: 769913181.1376123\n",
      "  positive)\n"
     ]
    }
   ],
   "source": [
    "\n",
    "lasso = Lasso().fit(X_train, y_train)\n",
    "print(\"Training set score: {:.2f}\".format(lasso.score(X_train, y_train)))\n",
    "print(\"Test set score: {:.2f}\".format(lasso.score(X_test, y_test)))\n",
    "print(\"Number of features used: {}\".format(np.sum(lasso.coef_ != 0)))"
   ]
  },
  {
   "cell_type": "code",
   "execution_count": 42,
   "metadata": {
    "execution": {
     "iopub.execute_input": "2021-03-24T15:14:47.518596Z",
     "iopub.status.busy": "2021-03-24T15:14:47.517935Z",
     "iopub.status.idle": "2021-03-24T15:15:29.015509Z",
     "shell.execute_reply": "2021-03-24T15:15:29.014701Z"
    },
    "papermill": {
     "duration": 41.570756,
     "end_time": "2021-03-24T15:15:29.015740",
     "exception": false,
     "start_time": "2021-03-24T15:14:47.444984",
     "status": "completed"
    },
    "tags": []
   },
   "outputs": [
    {
     "name": "stdout",
     "output_type": "stream",
     "text": [
      "Training set score: 0.94\n",
      "Test set score: 0.87\n",
      "Number of features used: 253\n"
     ]
    },
    {
     "name": "stderr",
     "output_type": "stream",
     "text": [
      "/opt/conda/lib/python3.7/site-packages/sklearn/linear_model/_coordinate_descent.py:532: ConvergenceWarning: Objective did not converge. You might want to increase the number of iterations. Duality gap: 30069414202.201355, tolerance: 769913181.1376123\n",
      "  positive)\n"
     ]
    }
   ],
   "source": [
    "lasso001 = Lasso(alpha=0.01, max_iter=100000).fit(X_train, y_train)\n",
    "print(\"Training set score: {:.2f}\".format(lasso001.score(X_train, y_train)))\n",
    "print(\"Test set score: {:.2f}\".format(lasso001.score(X_test, y_test)))\n",
    "print(\"Number of features used: {}\".format(np.sum(lasso001.coef_ != 0)))"
   ]
  },
  {
   "cell_type": "code",
   "execution_count": 43,
   "metadata": {
    "execution": {
     "iopub.execute_input": "2021-03-24T15:15:29.160798Z",
     "iopub.status.busy": "2021-03-24T15:15:29.159629Z",
     "iopub.status.idle": "2021-03-24T15:16:14.278971Z",
     "shell.execute_reply": "2021-03-24T15:16:14.278237Z"
    },
    "papermill": {
     "duration": 45.197169,
     "end_time": "2021-03-24T15:16:14.279236",
     "exception": false,
     "start_time": "2021-03-24T15:15:29.082067",
     "status": "completed"
    },
    "tags": []
   },
   "outputs": [
    {
     "name": "stdout",
     "output_type": "stream",
     "text": [
      "Training set score: 0.94\n",
      "Test set score: 0.87\n",
      "Number of features used: 269\n"
     ]
    },
    {
     "name": "stderr",
     "output_type": "stream",
     "text": [
      "/opt/conda/lib/python3.7/site-packages/sklearn/linear_model/_coordinate_descent.py:532: ConvergenceWarning: Objective did not converge. You might want to increase the number of iterations. Duality gap: 118417986410.22952, tolerance: 769913181.1376123\n",
      "  positive)\n"
     ]
    }
   ],
   "source": [
    "lasso00001 = Lasso(alpha=0.0001, max_iter=100000).fit(X_train, y_train)\n",
    "print(\"Training set score: {:.2f}\".format(lasso00001.score(X_train, y_train)))\n",
    "print(\"Test set score: {:.2f}\".format(lasso00001.score(X_test, y_test)))\n",
    "print(\"Number of features used: {}\".format(np.sum(lasso00001.coef_ != 0)))"
   ]
  },
  {
   "cell_type": "markdown",
   "metadata": {
    "papermill": {
     "duration": 0.064444,
     "end_time": "2021-03-24T15:16:14.409015",
     "exception": false,
     "start_time": "2021-03-24T15:16:14.344571",
     "status": "completed"
    },
    "tags": []
   },
   "source": [
    "**Prediction**"
   ]
  },
  {
   "cell_type": "code",
   "execution_count": 44,
   "metadata": {
    "execution": {
     "iopub.execute_input": "2021-03-24T15:16:14.553851Z",
     "iopub.status.busy": "2021-03-24T15:16:14.553014Z",
     "iopub.status.idle": "2021-03-24T15:16:14.557222Z",
     "shell.execute_reply": "2021-03-24T15:16:14.557832Z"
    },
    "papermill": {
     "duration": 0.084635,
     "end_time": "2021-03-24T15:16:14.558044",
     "exception": false,
     "start_time": "2021-03-24T15:16:14.473409",
     "status": "completed"
    },
    "tags": []
   },
   "outputs": [],
   "source": [
    "\n",
    "y_pred = lasso.predict(X_test)"
   ]
  },
  {
   "cell_type": "markdown",
   "metadata": {
    "papermill": {
     "duration": 0.064943,
     "end_time": "2021-03-24T15:16:14.687991",
     "exception": false,
     "start_time": "2021-03-24T15:16:14.623048",
     "status": "completed"
    },
    "tags": []
   },
   "source": [
    "**Evaluate Lasso Regression**"
   ]
  },
  {
   "cell_type": "code",
   "execution_count": 45,
   "metadata": {
    "execution": {
     "iopub.execute_input": "2021-03-24T15:16:14.822195Z",
     "iopub.status.busy": "2021-03-24T15:16:14.821443Z",
     "iopub.status.idle": "2021-03-24T15:16:14.851853Z",
     "shell.execute_reply": "2021-03-24T15:16:14.852629Z"
    },
    "papermill": {
     "duration": 0.09954,
     "end_time": "2021-03-24T15:16:14.852881",
     "exception": false,
     "start_time": "2021-03-24T15:16:14.753341",
     "status": "completed"
    },
    "tags": []
   },
   "outputs": [
    {
     "name": "stdout",
     "output_type": "stream",
     "text": [
      "Training set score: 0.94\n",
      "Test set score: 0.88\n"
     ]
    }
   ],
   "source": [
    "# R square\n",
    "R2 = lasso.score(X_test, y_test)\n",
    "print(\"Training set score: {:.2f}\".format(lasso.score(X_train, y_train)))\n",
    "print(\"Test set score: {:.2f}\".format(lasso.score(X_test, y_test)))"
   ]
  },
  {
   "cell_type": "code",
   "execution_count": 46,
   "metadata": {
    "execution": {
     "iopub.execute_input": "2021-03-24T15:16:14.990933Z",
     "iopub.status.busy": "2021-03-24T15:16:14.989870Z",
     "iopub.status.idle": "2021-03-24T15:16:14.997419Z",
     "shell.execute_reply": "2021-03-24T15:16:14.998014Z"
    },
    "papermill": {
     "duration": 0.077014,
     "end_time": "2021-03-24T15:16:14.998242",
     "exception": false,
     "start_time": "2021-03-24T15:16:14.921228",
     "status": "completed"
    },
    "tags": []
   },
   "outputs": [
    {
     "name": "stdout",
     "output_type": "stream",
     "text": [
      "Root Mean Squared Error: 25383.06\n"
     ]
    }
   ],
   "source": [
    "# Root Mean Squared Error\n",
    "mse = mean_squared_error(y_test, y_pred)\n",
    "rmse = np.sqrt(mean_squared_error(y_test, y_pred))\n",
    "print(\"Root Mean Squared Error: {:.2f}\".format(rmse))"
   ]
  },
  {
   "cell_type": "code",
   "execution_count": 47,
   "metadata": {
    "execution": {
     "iopub.execute_input": "2021-03-24T15:16:15.137010Z",
     "iopub.status.busy": "2021-03-24T15:16:15.135829Z",
     "iopub.status.idle": "2021-03-24T15:16:15.141395Z",
     "shell.execute_reply": "2021-03-24T15:16:15.142376Z"
    },
    "papermill": {
     "duration": 0.078789,
     "end_time": "2021-03-24T15:16:15.142782",
     "exception": false,
     "start_time": "2021-03-24T15:16:15.063993",
     "status": "completed"
    },
    "tags": []
   },
   "outputs": [
    {
     "name": "stdout",
     "output_type": "stream",
     "text": [
      "Mean Absolute Error:  16856.81661045627\n"
     ]
    }
   ],
   "source": [
    "# Mean Absolute Error (MAE)\n",
    "mae = mean_absolute_error(y_test, y_pred)\n",
    "print('Mean Absolute Error: ', mae)"
   ]
  },
  {
   "cell_type": "code",
   "execution_count": 48,
   "metadata": {
    "execution": {
     "iopub.execute_input": "2021-03-24T15:16:15.281673Z",
     "iopub.status.busy": "2021-03-24T15:16:15.280673Z",
     "iopub.status.idle": "2021-03-24T15:16:15.283914Z",
     "shell.execute_reply": "2021-03-24T15:16:15.283369Z"
    },
    "papermill": {
     "duration": 0.074497,
     "end_time": "2021-03-24T15:16:15.284069",
     "exception": false,
     "start_time": "2021-03-24T15:16:15.209572",
     "status": "completed"
    },
    "tags": []
   },
   "outputs": [],
   "source": [
    "E3 = ['Lasso Regression', R2, rmse, mae ]"
   ]
  },
  {
   "cell_type": "markdown",
   "metadata": {
    "papermill": {
     "duration": 0.065671,
     "end_time": "2021-03-24T15:16:15.416522",
     "exception": false,
     "start_time": "2021-03-24T15:16:15.350851",
     "status": "completed"
    },
    "tags": []
   },
   "source": [
    "# Evaluate models"
   ]
  },
  {
   "cell_type": "code",
   "execution_count": 49,
   "metadata": {
    "execution": {
     "iopub.execute_input": "2021-03-24T15:16:15.551835Z",
     "iopub.status.busy": "2021-03-24T15:16:15.551038Z",
     "iopub.status.idle": "2021-03-24T15:16:15.567117Z",
     "shell.execute_reply": "2021-03-24T15:16:15.567693Z"
    },
    "papermill": {
     "duration": 0.085647,
     "end_time": "2021-03-24T15:16:15.567879",
     "exception": false,
     "start_time": "2021-03-24T15:16:15.482232",
     "status": "completed"
    },
    "tags": []
   },
   "outputs": [
    {
     "data": {
      "text/html": [
       "<div>\n",
       "<style scoped>\n",
       "    .dataframe tbody tr th:only-of-type {\n",
       "        vertical-align: middle;\n",
       "    }\n",
       "\n",
       "    .dataframe tbody tr th {\n",
       "        vertical-align: top;\n",
       "    }\n",
       "\n",
       "    .dataframe thead th {\n",
       "        text-align: right;\n",
       "    }\n",
       "</style>\n",
       "<table border=\"1\" class=\"dataframe\">\n",
       "  <thead>\n",
       "    <tr style=\"text-align: right;\">\n",
       "      <th></th>\n",
       "      <th>Model</th>\n",
       "      <th>R Square</th>\n",
       "      <th>RMSE</th>\n",
       "      <th>MAE</th>\n",
       "    </tr>\n",
       "  </thead>\n",
       "  <tbody>\n",
       "    <tr>\n",
       "      <th>0</th>\n",
       "      <td>Linear Regression</td>\n",
       "      <td>0.858843</td>\n",
       "      <td>26995.243689</td>\n",
       "      <td>17343.192531</td>\n",
       "    </tr>\n",
       "    <tr>\n",
       "      <th>1</th>\n",
       "      <td>Ridge Regression</td>\n",
       "      <td>0.860877</td>\n",
       "      <td>26800.089574</td>\n",
       "      <td>17992.606090</td>\n",
       "    </tr>\n",
       "    <tr>\n",
       "      <th>2</th>\n",
       "      <td>Lasso Regression</td>\n",
       "      <td>0.875200</td>\n",
       "      <td>25383.062666</td>\n",
       "      <td>16856.816610</td>\n",
       "    </tr>\n",
       "  </tbody>\n",
       "</table>\n",
       "</div>"
      ],
      "text/plain": [
       "               Model  R Square          RMSE           MAE\n",
       "0  Linear Regression  0.858843  26995.243689  17343.192531\n",
       "1   Ridge Regression  0.860877  26800.089574  17992.606090\n",
       "2   Lasso Regression  0.875200  25383.062666  16856.816610"
      ]
     },
     "execution_count": 49,
     "metadata": {},
     "output_type": "execute_result"
    }
   ],
   "source": [
    "df = pd.DataFrame([E1, E2, E3],\n",
    "               columns =['Model', 'R Square', 'RMSE', 'MAE'])\n",
    "df"
   ]
  }
 ],
 "metadata": {
  "kernelspec": {
   "display_name": "Python 3",
   "language": "python",
   "name": "python3"
  },
  "language_info": {
   "codemirror_mode": {
    "name": "ipython",
    "version": 3
   },
   "file_extension": ".py",
   "mimetype": "text/x-python",
   "name": "python",
   "nbconvert_exporter": "python",
   "pygments_lexer": "ipython3",
   "version": "3.7.9"
  },
  "papermill": {
   "default_parameters": {},
   "duration": 107.242286,
   "end_time": "2021-03-24T15:16:16.446995",
   "environment_variables": {},
   "exception": null,
   "input_path": "__notebook__.ipynb",
   "output_path": "__notebook__.ipynb",
   "parameters": {},
   "start_time": "2021-03-24T15:14:29.204709",
   "version": "2.2.2"
  }
 },
 "nbformat": 4,
 "nbformat_minor": 4
}
